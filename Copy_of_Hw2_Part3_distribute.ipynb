{
  "nbformat": 4,
  "nbformat_minor": 0,
  "metadata": {
    "colab": {
      "name": "Copy of Hw2_Part3_distribute.ipynb",
      "provenance": [],
      "collapsed_sections": [],
      "machine_shape": "hm",
      "include_colab_link": true
    },
    "kernelspec": {
      "name": "python3",
      "display_name": "Python 3"
    },
    "language_info": {
      "name": "python"
    }
  },
  "cells": [
    {
      "cell_type": "markdown",
      "metadata": {
        "id": "view-in-github",
        "colab_type": "text"
      },
      "source": [
        "<a href=\"https://colab.research.google.com/github/Surojit-KB/UNIV-AI-ML2-HW2/blob/main/Copy_of_Hw2_Part3_distribute.ipynb\" target=\"_parent\"><img src=\"https://colab.research.google.com/assets/colab-badge.svg\" alt=\"Open In Colab\"/></a>"
      ]
    },
    {
      "cell_type": "markdown",
      "metadata": {
        "id": "EaA1H2AHyVWQ"
      },
      "source": [
        "# ML-2: Trees, Model Interrogation and Bayesian Workflow\n",
        "# Homework 2: Rossman Kaggle: Forecasting Sales\n",
        "# Part 3 : Extracting embeddings!\n",
        "**ML-2 Cohort 1** <br>\n",
        "**Instructor: Dr. Rahul Dave**<br>\n",
        "**Max Score: 100** <br>"
      ]
    },
    {
      "cell_type": "code",
      "metadata": {
        "id": "6jBFtovs3nh1"
      },
      "source": [
        "#importing libraries\n",
        "import numpy as np\n",
        "import scipy.stats\n",
        "import scipy.special\n",
        "import matplotlib\n",
        "import matplotlib.pyplot as plt\n",
        "import matplotlib.mlab as mlab\n",
        "from matplotlib import cm\n",
        "import pandas as pd\n",
        "from sklearn.pipeline import make_pipeline, make_union, Pipeline\n",
        "from sklearn.preprocessing import StandardScaler, OrdinalEncoder\n",
        "from sklearn.metrics import mean_squared_error\n",
        "from sklearn.ensemble import GradientBoostingRegressor\n",
        "from sklearn.model_selection import ParameterGrid\n",
        "from keras.models import Sequential\n",
        "from keras.models import Model as KerasModel\n",
        "from keras.layers import Input, Dense, Activation, Reshape\n",
        "from keras.layers import Concatenate\n",
        "from keras.layers.embeddings import Embedding\n",
        "from sklearn.ensemble import RandomForestRegressor\n",
        "from sklearn import linear_model\n",
        "import pickle\n",
        "import csv\n",
        "from datetime import datetime\n",
        "from sklearn import preprocessing\n",
        "from keras.callbacks import ModelCheckpoint\n",
        "import xgboost as xgb\n",
        "from sklearn.preprocessing import OneHotEncoder\n",
        "%matplotlib inline"
      ],
      "execution_count": 1,
      "outputs": []
    },
    {
      "cell_type": "markdown",
      "metadata": {
        "id": "hlux5Gn-n-Gz"
      },
      "source": [
        "We will repeat the first initial steps again from Part 2"
      ]
    },
    {
      "cell_type": "markdown",
      "metadata": {
        "id": "h5Hi8ehR7WFX"
      },
      "source": [
        "Lets import the feature_train_data.pickle file and set X,y values from the pickle file"
      ]
    },
    {
      "cell_type": "code",
      "metadata": {
        "colab": {
          "base_uri": "https://localhost:8080/"
        },
        "id": "o59rvgzlKO7O",
        "outputId": "6e359848-5509-4fd9-9ee4-51d3ff92ea31"
      },
      "source": [
        "from google.colab import drive\n",
        "drive.mount('/content/drive')"
      ],
      "execution_count": 2,
      "outputs": [
        {
          "output_type": "stream",
          "text": [
            "Mounted at /content/drive\n"
          ],
          "name": "stdout"
        }
      ]
    },
    {
      "cell_type": "code",
      "metadata": {
        "id": "arl_aj6X7VQk"
      },
      "source": [
        "with open(\"/content/drive/MyDrive/Colab Notebooks/UNIV-AI-ML2/HW/feature_train_data.pickle\", 'rb') as f:\n",
        "    (X,y) = pickle.load(f)"
      ],
      "execution_count": 3,
      "outputs": []
    },
    {
      "cell_type": "code",
      "metadata": {
        "id": "cwMxtFTUDRFN"
      },
      "source": [
        "# we will split the train_ratio and 90% and 10% and set the train_size\n",
        "train_ratio = 0.9\n",
        "num_records = len(X)\n",
        "train_size = int(train_ratio * num_records)"
      ],
      "execution_count": 4,
      "outputs": []
    },
    {
      "cell_type": "code",
      "metadata": {
        "id": "XpP1Emg2Dni0",
        "colab": {
          "base_uri": "https://localhost:8080/"
        },
        "outputId": "c9018a2e-fe7f-47c4-d6b4-be1af467734b"
      },
      "source": [
        "#lets look at our data\n",
        "X[1], y[1]"
      ],
      "execution_count": 5,
      "outputs": [
        {
          "output_type": "execute_result",
          "data": {
            "text/plain": [
              "(array([1058,    0,    0,    0,    1,    0,    0,    1]), '4491')"
            ]
          },
          "metadata": {
            "tags": []
          },
          "execution_count": 5
        }
      ]
    },
    {
      "cell_type": "markdown",
      "metadata": {
        "id": "X2fhYw49Dz3w"
      },
      "source": [
        "The next set of inputs is following: \n",
        "\n",
        "1. Do you want to one hot encode the data?\n",
        "2. Do you want to provide embeddings as input - this will be set to **True** for models with entity embeddings\n",
        "3. Do you want to save the emmbeddings? - again set to **true** if you want to entity embeddings\n",
        "4. if 3 is set to **true**, we want to save them to a embeddings.pickle\n"
      ]
    },
    {
      "cell_type": "code",
      "metadata": {
        "id": "Tqtv6VWWDuZu"
      },
      "source": [
        "#your code here\n",
        "one_hot_as_input = False #one_hot is set to True\n",
        "embeddings_as_input = True \n",
        "save_embeddings = True\n",
        "saved_embeddings_fname = \"embeddings.pickle\" "
      ],
      "execution_count": 6,
      "outputs": []
    },
    {
      "cell_type": "markdown",
      "metadata": {
        "id": "PCk7tyVQEdy6"
      },
      "source": [
        "Split the data based on the train_size - same as part 2 "
      ]
    },
    {
      "cell_type": "code",
      "metadata": {
        "id": "hLTrTSGPEaGw"
      },
      "source": [
        "#your code here\n",
        "X_train=X[:train_size,:]\n",
        "X_val=X[train_size:,:]\n",
        "y_train=y[:train_size]\n",
        "y_val=y[train_size:]"
      ],
      "execution_count": 7,
      "outputs": []
    },
    {
      "cell_type": "code",
      "metadata": {
        "id": "StnmulRkEnRt"
      },
      "source": [
        "def sample(X, y, n):\n",
        "  #your code here\n",
        "    '''random samples'''\n",
        "    num_row = X.shape[0]\n",
        "    indices = np.random.randint(num_row, size=n)\n",
        "    return X[indices, :], y[indices]"
      ],
      "execution_count": 8,
      "outputs": []
    },
    {
      "cell_type": "code",
      "metadata": {
        "id": "ednNv14aEpjS"
      },
      "source": [
        "X_train, y_train = sample(X_train, y_train, 200000)  # Simulate data sparsity\n",
        "X_val, y_val = sample(X_val, y_val, 200000)  # Simulate data sparsity"
      ],
      "execution_count": 9,
      "outputs": []
    },
    {
      "cell_type": "markdown",
      "metadata": {
        "id": "4ayLSo_1E0yF"
      },
      "source": [
        "## Now lets work with Models with Entity embedding!!\n",
        "\n",
        "To read about Entity Embeddings in more detail and its use cases look at the follwing links:\n",
        "1. [Enhancing categorical features with Entity Embeddings](https://towardsdatascience.com/enhancing-categorical-features-with-entity-embeddings-e6850a5e34ff)\n",
        "2. [Understanding Entity Embeddings and It’s Application](https://towardsdatascience.com/understanding-entity-embeddings-and-its-application-69e37ae1501d#:~:text=Loosely%20speaking%2C%20entity%20embedding%20is,a%20sentence%2C%20or%20a%20paragraph.)\n",
        "\n",
        "The basic outline of this model will be something like this:\n",
        "\n",
        "\n",
        "![Outline.jpeg](https://drive.google.com/uc?export=view&id=1cm-jylknGEFg9KjehhRy90INkUJqRwrL)"
      ]
    },
    {
      "cell_type": "markdown",
      "metadata": {
        "id": "3uOEqzd8BzK4"
      },
      "source": [
        "We will be creating the following embeddings:\n",
        "\n",
        "1. input_store - with input shape as (1,) \n",
        "  * The input_store will be passed to output_store to create an embedding layer with embedding shape as 1115, 10\n",
        "  * we will reshape this to target_shape=(10,)\n",
        "2. input_dow - with input shape as (1,) \n",
        "  * The input_dow will be passed to output_dow to create an embedding layer with embedding shape as 7, 6\n",
        "  * we will reshape this to target_shape=(6,)\n",
        "3. input_promo - with input shape as (1,) \n",
        "  * output promo will be a dense(1) for input_promo\n",
        "4. input_year - with input shape as (1,) \n",
        "  * The input_year will be passed to output_year to create an embedding layer with embedding shape as 3, 2\n",
        "  * we will reshape this to target_shape=(2,)\n",
        "5. input_month - with input shape as (1,) \n",
        "  * The input_month will be passed to output_month to create an embedding layer with embedding shape as 12, 6\n",
        "  * we will reshape this to target_shape=(6,)\n",
        "6. input_day - with input shape as (1,) \n",
        "  * The input_day will be passed to output_day to create an embedding layer with embedding shape as 31, 10\n",
        "  * we will reshape this to target_shape=(10,)\n",
        "7. input_germanstate - with input shape as (1,) \n",
        "  * The input_germanstate will be passed to output_germanstate to create an embedding layer with embedding shape as 12, 6\n",
        "  * we will reshape this to target_shape=(6,)\n",
        "\n",
        "\n",
        "* Construct an input model with all the inputs \n",
        "* Construct an output embeddings with all the outputs( basically the embeddings) - concatenate this and call it the **output model**\n",
        "\n",
        "Set the output model with the following parameters:\n",
        "\n",
        "1. Dense Layer - 1000 neurons, keep the kernel_initializer as uniform, with activaation as relu\n",
        "2. Dense Layer - 500 neurons, keep the kernel_initializer as uniform, with activaation as relu\n",
        "3. Final dense layer with 1 neuron, and activation as sigmoid\n",
        "4. Create a KerasModel called modelNN_emb:\n",
        "\n",
        "       modelNN_emb = KerasModel(inputs=input_model, outputs=output_model)\n",
        "4. Compile the model on mean absolute error and optimizer as adam"
      ]
    },
    {
      "cell_type": "code",
      "metadata": {
        "id": "0qGSxshWqRCu",
        "colab": {
          "base_uri": "https://localhost:8080/"
        },
        "outputId": "bb96cc00-3a50-411f-fcc0-c265c4456eef"
      },
      "source": [
        "#Define the embedding NN model\n",
        "#your code here\n",
        "input_store=Input(shape=(1,))\n",
        "output_store=Embedding(1115,10,name='store')(input_store)\n",
        "output_store=Reshape(target_shape=(10,))(output_store)\n",
        "\n",
        "input_dow=Input(shape=(1,))\n",
        "output_dow=Embedding(7,6,name='dow')(input_dow)\n",
        "output_dow=Reshape(target_shape=(6,))(output_dow)\n",
        "\n",
        "input_promo=Input(shape=(1,))\n",
        "output_promo=Dense(1,name='Promo')(input_promo)\n",
        "\n",
        "input_year=Input(shape=(1,))\n",
        "output_year=Embedding(3,2,name='year')(input_year)\n",
        "output_year=Reshape(target_shape=(2,))(output_year)\n",
        "\n",
        "input_month=Input(shape=(1,))\n",
        "output_month=Embedding(12,6,name='month')(input_month)\n",
        "output_month=Reshape(target_shape=(6,))(output_month)\n",
        "\n",
        "input_day=Input(shape=(1,))\n",
        "output_day=Embedding(31,10,name='day')(input_day)\n",
        "output_day=Reshape(target_shape=(10,))(output_day)\n",
        "\n",
        "input_germanstate=Input(shape=(1,))\n",
        "output_germanstate=Embedding(12,6,name='state')(input_germanstate)\n",
        "output_germanstate=Reshape(target_shape=(6,))(output_germanstate)\n",
        "\n",
        "input_model=[input_store,input_dow,input_promo,input_year,input_month,input_day,input_germanstate]\n",
        "output_model=[output_store,output_dow,output_promo,output_year,output_month,output_day,output_germanstate]\n",
        "\n",
        "output_model=Concatenate()(output_model)\n",
        "output_model=Dense(1000, kernel_initializer=\"uniform\")(output_model)\n",
        "output_model=Activation('relu')(output_model)\n",
        "output_model=Dense(500, kernel_initializer=\"uniform\")(output_model)\n",
        "output_model=Activation('relu')(output_model)\n",
        "output_model=Dense(1)(output_model)\n",
        "output_model=Activation('sigmoid')(output_model)\n",
        "\n",
        "modelNN_emb = KerasModel(inputs=input_model, outputs=output_model)\n",
        "modelNN_emb.summary()\n",
        "modelNN_emb.compile(loss='mae',optimizer='adam')"
      ],
      "execution_count": 17,
      "outputs": [
        {
          "output_type": "stream",
          "text": [
            "Model: \"model_2\"\n",
            "__________________________________________________________________________________________________\n",
            "Layer (type)                    Output Shape         Param #     Connected to                     \n",
            "==================================================================================================\n",
            "input_25 (InputLayer)           [(None, 1)]          0                                            \n",
            "__________________________________________________________________________________________________\n",
            "input_26 (InputLayer)           [(None, 1)]          0                                            \n",
            "__________________________________________________________________________________________________\n",
            "input_28 (InputLayer)           [(None, 1)]          0                                            \n",
            "__________________________________________________________________________________________________\n",
            "input_29 (InputLayer)           [(None, 1)]          0                                            \n",
            "__________________________________________________________________________________________________\n",
            "input_30 (InputLayer)           [(None, 1)]          0                                            \n",
            "__________________________________________________________________________________________________\n",
            "input_31 (InputLayer)           [(None, 1)]          0                                            \n",
            "__________________________________________________________________________________________________\n",
            "store (Embedding)               (None, 1, 10)        11150       input_25[0][0]                   \n",
            "__________________________________________________________________________________________________\n",
            "dow (Embedding)                 (None, 1, 6)         42          input_26[0][0]                   \n",
            "__________________________________________________________________________________________________\n",
            "input_27 (InputLayer)           [(None, 1)]          0                                            \n",
            "__________________________________________________________________________________________________\n",
            "year (Embedding)                (None, 1, 2)         6           input_28[0][0]                   \n",
            "__________________________________________________________________________________________________\n",
            "month (Embedding)               (None, 1, 6)         72          input_29[0][0]                   \n",
            "__________________________________________________________________________________________________\n",
            "day (Embedding)                 (None, 1, 10)        310         input_30[0][0]                   \n",
            "__________________________________________________________________________________________________\n",
            "state (Embedding)               (None, 1, 6)         72          input_31[0][0]                   \n",
            "__________________________________________________________________________________________________\n",
            "reshape_20 (Reshape)            (None, 10)           0           store[0][0]                      \n",
            "__________________________________________________________________________________________________\n",
            "reshape_21 (Reshape)            (None, 6)            0           dow[0][0]                        \n",
            "__________________________________________________________________________________________________\n",
            "Promo (Dense)                   (None, 1)            2           input_27[0][0]                   \n",
            "__________________________________________________________________________________________________\n",
            "reshape_22 (Reshape)            (None, 2)            0           year[0][0]                       \n",
            "__________________________________________________________________________________________________\n",
            "reshape_23 (Reshape)            (None, 6)            0           month[0][0]                      \n",
            "__________________________________________________________________________________________________\n",
            "reshape_24 (Reshape)            (None, 10)           0           day[0][0]                        \n",
            "__________________________________________________________________________________________________\n",
            "reshape_25 (Reshape)            (None, 6)            0           state[0][0]                      \n",
            "__________________________________________________________________________________________________\n",
            "concatenate_2 (Concatenate)     (None, 41)           0           reshape_20[0][0]                 \n",
            "                                                                 reshape_21[0][0]                 \n",
            "                                                                 Promo[0][0]                      \n",
            "                                                                 reshape_22[0][0]                 \n",
            "                                                                 reshape_23[0][0]                 \n",
            "                                                                 reshape_24[0][0]                 \n",
            "                                                                 reshape_25[0][0]                 \n",
            "__________________________________________________________________________________________________\n",
            "dense_10 (Dense)                (None, 1000)         42000       concatenate_2[0][0]              \n",
            "__________________________________________________________________________________________________\n",
            "activation_6 (Activation)       (None, 1000)         0           dense_10[0][0]                   \n",
            "__________________________________________________________________________________________________\n",
            "dense_11 (Dense)                (None, 500)          500500      activation_6[0][0]               \n",
            "__________________________________________________________________________________________________\n",
            "activation_7 (Activation)       (None, 500)          0           dense_11[0][0]                   \n",
            "__________________________________________________________________________________________________\n",
            "dense_12 (Dense)                (None, 1)            501         activation_7[0][0]               \n",
            "__________________________________________________________________________________________________\n",
            "activation_8 (Activation)       (None, 1)            0           dense_12[0][0]                   \n",
            "==================================================================================================\n",
            "Total params: 554,655\n",
            "Trainable params: 554,655\n",
            "Non-trainable params: 0\n",
            "__________________________________________________________________________________________________\n"
          ],
          "name": "stdout"
        }
      ]
    },
    {
      "cell_type": "code",
      "metadata": {
        "colab": {
          "base_uri": "https://localhost:8080/",
          "height": 813
        },
        "id": "Sq3-20RDqH4W",
        "outputId": "9452919f-e45c-419f-df3f-426c0c009bcf"
      },
      "source": [
        "import pydot\n",
        "from tensorflow.keras.utils import model_to_dot\n",
        "from IPython.display import SVG\n",
        "SVG(model_to_dot(modelNN_emb,  show_shapes=True, show_layer_names=True, dpi=52, rankdir='TB').create_svg())"
      ],
      "execution_count": 22,
      "outputs": [
        {
          "output_type": "execute_result",
          "data": {
            "text/plain": [
              "<IPython.core.display.SVG object>"
            ],
            "image/svg+xml": "<svg height=\"579pt\" viewBox=\"0.00 0.00 2054.50 802.00\" width=\"1484pt\" xmlns=\"http://www.w3.org/2000/svg\" xmlns:xlink=\"http://www.w3.org/1999/xlink\">\n<g class=\"graph\" id=\"graph0\" transform=\"scale(.7222 .7222) rotate(0) translate(4 798)\">\n<title>G</title>\n<polygon fill=\"#ffffff\" points=\"-4,4 -4,-798 2050.5,-798 2050.5,4 -4,4\" stroke=\"transparent\"/>\n<!-- 139793496888592 -->\n<g class=\"node\" id=\"node1\">\n<title>139793496888592</title>\n<polygon fill=\"none\" points=\"0,-747.5 0,-793.5 279,-793.5 279,-747.5 0,-747.5\" stroke=\"#000000\"/>\n<text fill=\"#000000\" font-family=\"Times,serif\" font-size=\"14.00\" text-anchor=\"middle\" x=\"70\" y=\"-766.8\">input_25: InputLayer</text>\n<polyline fill=\"none\" points=\"140,-747.5 140,-793.5 \" stroke=\"#000000\"/>\n<text fill=\"#000000\" font-family=\"Times,serif\" font-size=\"14.00\" text-anchor=\"middle\" x=\"169\" y=\"-778.3\">input:</text>\n<polyline fill=\"none\" points=\"140,-770.5 198,-770.5 \" stroke=\"#000000\"/>\n<text fill=\"#000000\" font-family=\"Times,serif\" font-size=\"14.00\" text-anchor=\"middle\" x=\"169\" y=\"-755.3\">output:</text>\n<polyline fill=\"none\" points=\"198,-747.5 198,-793.5 \" stroke=\"#000000\"/>\n<text fill=\"#000000\" font-family=\"Times,serif\" font-size=\"14.00\" text-anchor=\"middle\" x=\"238.5\" y=\"-778.3\">[(None, 1)]</text>\n<polyline fill=\"none\" points=\"198,-770.5 279,-770.5 \" stroke=\"#000000\"/>\n<text fill=\"#000000\" font-family=\"Times,serif\" font-size=\"14.00\" text-anchor=\"middle\" x=\"238.5\" y=\"-755.3\">[(None, 1)]</text>\n</g>\n<!-- 139793495349712 -->\n<g class=\"node\" id=\"node7\">\n<title>139793495349712</title>\n<polygon fill=\"none\" points=\"5.5,-664.5 5.5,-710.5 277.5,-710.5 277.5,-664.5 5.5,-664.5\" stroke=\"#000000\"/>\n<text fill=\"#000000\" font-family=\"Times,serif\" font-size=\"14.00\" text-anchor=\"middle\" x=\"65\" y=\"-683.8\">store: Embedding</text>\n<polyline fill=\"none\" points=\"124.5,-664.5 124.5,-710.5 \" stroke=\"#000000\"/>\n<text fill=\"#000000\" font-family=\"Times,serif\" font-size=\"14.00\" text-anchor=\"middle\" x=\"153.5\" y=\"-695.3\">input:</text>\n<polyline fill=\"none\" points=\"124.5,-687.5 182.5,-687.5 \" stroke=\"#000000\"/>\n<text fill=\"#000000\" font-family=\"Times,serif\" font-size=\"14.00\" text-anchor=\"middle\" x=\"153.5\" y=\"-672.3\">output:</text>\n<polyline fill=\"none\" points=\"182.5,-664.5 182.5,-710.5 \" stroke=\"#000000\"/>\n<text fill=\"#000000\" font-family=\"Times,serif\" font-size=\"14.00\" text-anchor=\"middle\" x=\"230\" y=\"-695.3\">(None, 1)</text>\n<polyline fill=\"none\" points=\"182.5,-687.5 277.5,-687.5 \" stroke=\"#000000\"/>\n<text fill=\"#000000\" font-family=\"Times,serif\" font-size=\"14.00\" text-anchor=\"middle\" x=\"230\" y=\"-672.3\">(None, 1, 10)</text>\n</g>\n<!-- 139793496888592&#45;&gt;139793495349712 -->\n<g class=\"edge\" id=\"edge1\">\n<title>139793496888592-&gt;139793495349712</title>\n<path d=\"M140.0571,-747.3799C140.2548,-739.1745 140.4815,-729.7679 140.6957,-720.8786\" fill=\"none\" stroke=\"#000000\"/>\n<polygon fill=\"#000000\" points=\"144.1969,-720.8655 140.9389,-710.784 137.199,-720.6968 144.1969,-720.8655\" stroke=\"#000000\"/>\n</g>\n<!-- 139793498544336 -->\n<g class=\"node\" id=\"node2\">\n<title>139793498544336</title>\n<polygon fill=\"none\" points=\"297,-747.5 297,-793.5 576,-793.5 576,-747.5 297,-747.5\" stroke=\"#000000\"/>\n<text fill=\"#000000\" font-family=\"Times,serif\" font-size=\"14.00\" text-anchor=\"middle\" x=\"367\" y=\"-766.8\">input_26: InputLayer</text>\n<polyline fill=\"none\" points=\"437,-747.5 437,-793.5 \" stroke=\"#000000\"/>\n<text fill=\"#000000\" font-family=\"Times,serif\" font-size=\"14.00\" text-anchor=\"middle\" x=\"466\" y=\"-778.3\">input:</text>\n<polyline fill=\"none\" points=\"437,-770.5 495,-770.5 \" stroke=\"#000000\"/>\n<text fill=\"#000000\" font-family=\"Times,serif\" font-size=\"14.00\" text-anchor=\"middle\" x=\"466\" y=\"-755.3\">output:</text>\n<polyline fill=\"none\" points=\"495,-747.5 495,-793.5 \" stroke=\"#000000\"/>\n<text fill=\"#000000\" font-family=\"Times,serif\" font-size=\"14.00\" text-anchor=\"middle\" x=\"535.5\" y=\"-778.3\">[(None, 1)]</text>\n<polyline fill=\"none\" points=\"495,-770.5 576,-770.5 \" stroke=\"#000000\"/>\n<text fill=\"#000000\" font-family=\"Times,serif\" font-size=\"14.00\" text-anchor=\"middle\" x=\"535.5\" y=\"-755.3\">[(None, 1)]</text>\n</g>\n<!-- 139793495317968 -->\n<g class=\"node\" id=\"node8\">\n<title>139793495317968</title>\n<polygon fill=\"none\" points=\"304.5,-664.5 304.5,-710.5 566.5,-710.5 566.5,-664.5 304.5,-664.5\" stroke=\"#000000\"/>\n<text fill=\"#000000\" font-family=\"Times,serif\" font-size=\"14.00\" text-anchor=\"middle\" x=\"363\" y=\"-683.8\">dow: Embedding</text>\n<polyline fill=\"none\" points=\"421.5,-664.5 421.5,-710.5 \" stroke=\"#000000\"/>\n<text fill=\"#000000\" font-family=\"Times,serif\" font-size=\"14.00\" text-anchor=\"middle\" x=\"450.5\" y=\"-695.3\">input:</text>\n<polyline fill=\"none\" points=\"421.5,-687.5 479.5,-687.5 \" stroke=\"#000000\"/>\n<text fill=\"#000000\" font-family=\"Times,serif\" font-size=\"14.00\" text-anchor=\"middle\" x=\"450.5\" y=\"-672.3\">output:</text>\n<polyline fill=\"none\" points=\"479.5,-664.5 479.5,-710.5 \" stroke=\"#000000\"/>\n<text fill=\"#000000\" font-family=\"Times,serif\" font-size=\"14.00\" text-anchor=\"middle\" x=\"523\" y=\"-695.3\">(None, 1)</text>\n<polyline fill=\"none\" points=\"479.5,-687.5 566.5,-687.5 \" stroke=\"#000000\"/>\n<text fill=\"#000000\" font-family=\"Times,serif\" font-size=\"14.00\" text-anchor=\"middle\" x=\"523\" y=\"-672.3\">(None, 1, 6)</text>\n</g>\n<!-- 139793498544336&#45;&gt;139793495317968 -->\n<g class=\"edge\" id=\"edge2\">\n<title>139793498544336-&gt;139793495317968</title>\n<path d=\"M436.2214,-747.3799C436.1226,-739.1745 436.0093,-729.7679 435.9022,-720.8786\" fill=\"none\" stroke=\"#000000\"/>\n<polygon fill=\"#000000\" points=\"439.4008,-720.7411 435.7805,-710.784 432.4014,-720.8255 439.4008,-720.7411\" stroke=\"#000000\"/>\n</g>\n<!-- 139793495317264 -->\n<g class=\"node\" id=\"node3\">\n<title>139793495317264</title>\n<polygon fill=\"none\" points=\"866,-747.5 866,-793.5 1145,-793.5 1145,-747.5 866,-747.5\" stroke=\"#000000\"/>\n<text fill=\"#000000\" font-family=\"Times,serif\" font-size=\"14.00\" text-anchor=\"middle\" x=\"936\" y=\"-766.8\">input_28: InputLayer</text>\n<polyline fill=\"none\" points=\"1006,-747.5 1006,-793.5 \" stroke=\"#000000\"/>\n<text fill=\"#000000\" font-family=\"Times,serif\" font-size=\"14.00\" text-anchor=\"middle\" x=\"1035\" y=\"-778.3\">input:</text>\n<polyline fill=\"none\" points=\"1006,-770.5 1064,-770.5 \" stroke=\"#000000\"/>\n<text fill=\"#000000\" font-family=\"Times,serif\" font-size=\"14.00\" text-anchor=\"middle\" x=\"1035\" y=\"-755.3\">output:</text>\n<polyline fill=\"none\" points=\"1064,-747.5 1064,-793.5 \" stroke=\"#000000\"/>\n<text fill=\"#000000\" font-family=\"Times,serif\" font-size=\"14.00\" text-anchor=\"middle\" x=\"1104.5\" y=\"-778.3\">[(None, 1)]</text>\n<polyline fill=\"none\" points=\"1064,-770.5 1145,-770.5 \" stroke=\"#000000\"/>\n<text fill=\"#000000\" font-family=\"Times,serif\" font-size=\"14.00\" text-anchor=\"middle\" x=\"1104.5\" y=\"-755.3\">[(None, 1)]</text>\n</g>\n<!-- 139793495269520 -->\n<g class=\"node\" id=\"node10\">\n<title>139793495269520</title>\n<polygon fill=\"none\" points=\"882,-664.5 882,-710.5 1143,-710.5 1143,-664.5 882,-664.5\" stroke=\"#000000\"/>\n<text fill=\"#000000\" font-family=\"Times,serif\" font-size=\"14.00\" text-anchor=\"middle\" x=\"940\" y=\"-683.8\">year: Embedding</text>\n<polyline fill=\"none\" points=\"998,-664.5 998,-710.5 \" stroke=\"#000000\"/>\n<text fill=\"#000000\" font-family=\"Times,serif\" font-size=\"14.00\" text-anchor=\"middle\" x=\"1027\" y=\"-695.3\">input:</text>\n<polyline fill=\"none\" points=\"998,-687.5 1056,-687.5 \" stroke=\"#000000\"/>\n<text fill=\"#000000\" font-family=\"Times,serif\" font-size=\"14.00\" text-anchor=\"middle\" x=\"1027\" y=\"-672.3\">output:</text>\n<polyline fill=\"none\" points=\"1056,-664.5 1056,-710.5 \" stroke=\"#000000\"/>\n<text fill=\"#000000\" font-family=\"Times,serif\" font-size=\"14.00\" text-anchor=\"middle\" x=\"1099.5\" y=\"-695.3\">(None, 1)</text>\n<polyline fill=\"none\" points=\"1056,-687.5 1143,-687.5 \" stroke=\"#000000\"/>\n<text fill=\"#000000\" font-family=\"Times,serif\" font-size=\"14.00\" text-anchor=\"middle\" x=\"1099.5\" y=\"-672.3\">(None, 1, 2)</text>\n</g>\n<!-- 139793495317264&#45;&gt;139793495269520 -->\n<g class=\"edge\" id=\"edge3\">\n<title>139793495317264-&gt;139793495269520</title>\n<path d=\"M1007.4499,-747.3799C1008.1419,-739.1745 1008.9352,-729.7679 1009.6849,-720.8786\" fill=\"none\" stroke=\"#000000\"/>\n<polygon fill=\"#000000\" points=\"1013.1834,-721.0428 1010.5363,-710.784 1006.2082,-720.4545 1013.1834,-721.0428\" stroke=\"#000000\"/>\n</g>\n<!-- 139793496308368 -->\n<g class=\"node\" id=\"node4\">\n<title>139793496308368</title>\n<polygon fill=\"none\" points=\"1163,-747.5 1163,-793.5 1442,-793.5 1442,-747.5 1163,-747.5\" stroke=\"#000000\"/>\n<text fill=\"#000000\" font-family=\"Times,serif\" font-size=\"14.00\" text-anchor=\"middle\" x=\"1233\" y=\"-766.8\">input_29: InputLayer</text>\n<polyline fill=\"none\" points=\"1303,-747.5 1303,-793.5 \" stroke=\"#000000\"/>\n<text fill=\"#000000\" font-family=\"Times,serif\" font-size=\"14.00\" text-anchor=\"middle\" x=\"1332\" y=\"-778.3\">input:</text>\n<polyline fill=\"none\" points=\"1303,-770.5 1361,-770.5 \" stroke=\"#000000\"/>\n<text fill=\"#000000\" font-family=\"Times,serif\" font-size=\"14.00\" text-anchor=\"middle\" x=\"1332\" y=\"-755.3\">output:</text>\n<polyline fill=\"none\" points=\"1361,-747.5 1361,-793.5 \" stroke=\"#000000\"/>\n<text fill=\"#000000\" font-family=\"Times,serif\" font-size=\"14.00\" text-anchor=\"middle\" x=\"1401.5\" y=\"-778.3\">[(None, 1)]</text>\n<polyline fill=\"none\" points=\"1361,-770.5 1442,-770.5 \" stroke=\"#000000\"/>\n<text fill=\"#000000\" font-family=\"Times,serif\" font-size=\"14.00\" text-anchor=\"middle\" x=\"1401.5\" y=\"-755.3\">[(None, 1)]</text>\n</g>\n<!-- 139793495331728 -->\n<g class=\"node\" id=\"node11\">\n<title>139793495331728</title>\n<polygon fill=\"none\" points=\"1164.5,-664.5 1164.5,-710.5 1438.5,-710.5 1438.5,-664.5 1164.5,-664.5\" stroke=\"#000000\"/>\n<text fill=\"#000000\" font-family=\"Times,serif\" font-size=\"14.00\" text-anchor=\"middle\" x=\"1229\" y=\"-683.8\">month: Embedding</text>\n<polyline fill=\"none\" points=\"1293.5,-664.5 1293.5,-710.5 \" stroke=\"#000000\"/>\n<text fill=\"#000000\" font-family=\"Times,serif\" font-size=\"14.00\" text-anchor=\"middle\" x=\"1322.5\" y=\"-695.3\">input:</text>\n<polyline fill=\"none\" points=\"1293.5,-687.5 1351.5,-687.5 \" stroke=\"#000000\"/>\n<text fill=\"#000000\" font-family=\"Times,serif\" font-size=\"14.00\" text-anchor=\"middle\" x=\"1322.5\" y=\"-672.3\">output:</text>\n<polyline fill=\"none\" points=\"1351.5,-664.5 1351.5,-710.5 \" stroke=\"#000000\"/>\n<text fill=\"#000000\" font-family=\"Times,serif\" font-size=\"14.00\" text-anchor=\"middle\" x=\"1395\" y=\"-695.3\">(None, 1)</text>\n<polyline fill=\"none\" points=\"1351.5,-687.5 1438.5,-687.5 \" stroke=\"#000000\"/>\n<text fill=\"#000000\" font-family=\"Times,serif\" font-size=\"14.00\" text-anchor=\"middle\" x=\"1395\" y=\"-672.3\">(None, 1, 6)</text>\n</g>\n<!-- 139793496308368&#45;&gt;139793495331728 -->\n<g class=\"edge\" id=\"edge4\">\n<title>139793496308368-&gt;139793495331728</title>\n<path d=\"M1302.2214,-747.3799C1302.1226,-739.1745 1302.0093,-729.7679 1301.9022,-720.8786\" fill=\"none\" stroke=\"#000000\"/>\n<polygon fill=\"#000000\" points=\"1305.4008,-720.7411 1301.7805,-710.784 1298.4014,-720.8255 1305.4008,-720.7411\" stroke=\"#000000\"/>\n</g>\n<!-- 139793495141648 -->\n<g class=\"node\" id=\"node5\">\n<title>139793495141648</title>\n<polygon fill=\"none\" points=\"1462,-747.5 1462,-793.5 1741,-793.5 1741,-747.5 1462,-747.5\" stroke=\"#000000\"/>\n<text fill=\"#000000\" font-family=\"Times,serif\" font-size=\"14.00\" text-anchor=\"middle\" x=\"1532\" y=\"-766.8\">input_30: InputLayer</text>\n<polyline fill=\"none\" points=\"1602,-747.5 1602,-793.5 \" stroke=\"#000000\"/>\n<text fill=\"#000000\" font-family=\"Times,serif\" font-size=\"14.00\" text-anchor=\"middle\" x=\"1631\" y=\"-778.3\">input:</text>\n<polyline fill=\"none\" points=\"1602,-770.5 1660,-770.5 \" stroke=\"#000000\"/>\n<text fill=\"#000000\" font-family=\"Times,serif\" font-size=\"14.00\" text-anchor=\"middle\" x=\"1631\" y=\"-755.3\">output:</text>\n<polyline fill=\"none\" points=\"1660,-747.5 1660,-793.5 \" stroke=\"#000000\"/>\n<text fill=\"#000000\" font-family=\"Times,serif\" font-size=\"14.00\" text-anchor=\"middle\" x=\"1700.5\" y=\"-778.3\">[(None, 1)]</text>\n<polyline fill=\"none\" points=\"1660,-770.5 1741,-770.5 \" stroke=\"#000000\"/>\n<text fill=\"#000000\" font-family=\"Times,serif\" font-size=\"14.00\" text-anchor=\"middle\" x=\"1700.5\" y=\"-755.3\">[(None, 1)]</text>\n</g>\n<!-- 139793498160272 -->\n<g class=\"node\" id=\"node12\">\n<title>139793498160272</title>\n<polygon fill=\"none\" points=\"1468.5,-664.5 1468.5,-710.5 1734.5,-710.5 1734.5,-664.5 1468.5,-664.5\" stroke=\"#000000\"/>\n<text fill=\"#000000\" font-family=\"Times,serif\" font-size=\"14.00\" text-anchor=\"middle\" x=\"1525\" y=\"-683.8\">day: Embedding</text>\n<polyline fill=\"none\" points=\"1581.5,-664.5 1581.5,-710.5 \" stroke=\"#000000\"/>\n<text fill=\"#000000\" font-family=\"Times,serif\" font-size=\"14.00\" text-anchor=\"middle\" x=\"1610.5\" y=\"-695.3\">input:</text>\n<polyline fill=\"none\" points=\"1581.5,-687.5 1639.5,-687.5 \" stroke=\"#000000\"/>\n<text fill=\"#000000\" font-family=\"Times,serif\" font-size=\"14.00\" text-anchor=\"middle\" x=\"1610.5\" y=\"-672.3\">output:</text>\n<polyline fill=\"none\" points=\"1639.5,-664.5 1639.5,-710.5 \" stroke=\"#000000\"/>\n<text fill=\"#000000\" font-family=\"Times,serif\" font-size=\"14.00\" text-anchor=\"middle\" x=\"1687\" y=\"-695.3\">(None, 1)</text>\n<polyline fill=\"none\" points=\"1639.5,-687.5 1734.5,-687.5 \" stroke=\"#000000\"/>\n<text fill=\"#000000\" font-family=\"Times,serif\" font-size=\"14.00\" text-anchor=\"middle\" x=\"1687\" y=\"-672.3\">(None, 1, 10)</text>\n</g>\n<!-- 139793495141648&#45;&gt;139793498160272 -->\n<g class=\"edge\" id=\"edge5\">\n<title>139793495141648-&gt;139793498160272</title>\n<path d=\"M1601.5,-747.3799C1601.5,-739.1745 1601.5,-729.7679 1601.5,-720.8786\" fill=\"none\" stroke=\"#000000\"/>\n<polygon fill=\"#000000\" points=\"1605.0001,-720.784 1601.5,-710.784 1598.0001,-720.784 1605.0001,-720.784\" stroke=\"#000000\"/>\n</g>\n<!-- 139793495295696 -->\n<g class=\"node\" id=\"node6\">\n<title>139793495295696</title>\n<polygon fill=\"none\" points=\"1766,-747.5 1766,-793.5 2045,-793.5 2045,-747.5 1766,-747.5\" stroke=\"#000000\"/>\n<text fill=\"#000000\" font-family=\"Times,serif\" font-size=\"14.00\" text-anchor=\"middle\" x=\"1836\" y=\"-766.8\">input_31: InputLayer</text>\n<polyline fill=\"none\" points=\"1906,-747.5 1906,-793.5 \" stroke=\"#000000\"/>\n<text fill=\"#000000\" font-family=\"Times,serif\" font-size=\"14.00\" text-anchor=\"middle\" x=\"1935\" y=\"-778.3\">input:</text>\n<polyline fill=\"none\" points=\"1906,-770.5 1964,-770.5 \" stroke=\"#000000\"/>\n<text fill=\"#000000\" font-family=\"Times,serif\" font-size=\"14.00\" text-anchor=\"middle\" x=\"1935\" y=\"-755.3\">output:</text>\n<polyline fill=\"none\" points=\"1964,-747.5 1964,-793.5 \" stroke=\"#000000\"/>\n<text fill=\"#000000\" font-family=\"Times,serif\" font-size=\"14.00\" text-anchor=\"middle\" x=\"2004.5\" y=\"-778.3\">[(None, 1)]</text>\n<polyline fill=\"none\" points=\"1964,-770.5 2045,-770.5 \" stroke=\"#000000\"/>\n<text fill=\"#000000\" font-family=\"Times,serif\" font-size=\"14.00\" text-anchor=\"middle\" x=\"2004.5\" y=\"-755.3\">[(None, 1)]</text>\n</g>\n<!-- 139793495281104 -->\n<g class=\"node\" id=\"node13\">\n<title>139793495281104</title>\n<polygon fill=\"none\" points=\"1775,-664.5 1775,-710.5 2036,-710.5 2036,-664.5 1775,-664.5\" stroke=\"#000000\"/>\n<text fill=\"#000000\" font-family=\"Times,serif\" font-size=\"14.00\" text-anchor=\"middle\" x=\"1833\" y=\"-683.8\">state: Embedding</text>\n<polyline fill=\"none\" points=\"1891,-664.5 1891,-710.5 \" stroke=\"#000000\"/>\n<text fill=\"#000000\" font-family=\"Times,serif\" font-size=\"14.00\" text-anchor=\"middle\" x=\"1920\" y=\"-695.3\">input:</text>\n<polyline fill=\"none\" points=\"1891,-687.5 1949,-687.5 \" stroke=\"#000000\"/>\n<text fill=\"#000000\" font-family=\"Times,serif\" font-size=\"14.00\" text-anchor=\"middle\" x=\"1920\" y=\"-672.3\">output:</text>\n<polyline fill=\"none\" points=\"1949,-664.5 1949,-710.5 \" stroke=\"#000000\"/>\n<text fill=\"#000000\" font-family=\"Times,serif\" font-size=\"14.00\" text-anchor=\"middle\" x=\"1992.5\" y=\"-695.3\">(None, 1)</text>\n<polyline fill=\"none\" points=\"1949,-687.5 2036,-687.5 \" stroke=\"#000000\"/>\n<text fill=\"#000000\" font-family=\"Times,serif\" font-size=\"14.00\" text-anchor=\"middle\" x=\"1992.5\" y=\"-672.3\">(None, 1, 6)</text>\n</g>\n<!-- 139793495295696&#45;&gt;139793495281104 -->\n<g class=\"edge\" id=\"edge6\">\n<title>139793495295696-&gt;139793495281104</title>\n<path d=\"M1905.5,-747.3799C1905.5,-739.1745 1905.5,-729.7679 1905.5,-720.8786\" fill=\"none\" stroke=\"#000000\"/>\n<polygon fill=\"#000000\" points=\"1909.0001,-720.784 1905.5,-710.784 1902.0001,-720.784 1909.0001,-720.784\" stroke=\"#000000\"/>\n</g>\n<!-- 139793497769424 -->\n<g class=\"node\" id=\"node14\">\n<title>139793497769424</title>\n<polygon fill=\"none\" points=\".5,-581.5 .5,-627.5 290.5,-627.5 290.5,-581.5 .5,-581.5\" stroke=\"#000000\"/>\n<text fill=\"#000000\" font-family=\"Times,serif\" font-size=\"14.00\" text-anchor=\"middle\" x=\"69\" y=\"-600.8\">reshape_20: Reshape</text>\n<polyline fill=\"none\" points=\"137.5,-581.5 137.5,-627.5 \" stroke=\"#000000\"/>\n<text fill=\"#000000\" font-family=\"Times,serif\" font-size=\"14.00\" text-anchor=\"middle\" x=\"166.5\" y=\"-612.3\">input:</text>\n<polyline fill=\"none\" points=\"137.5,-604.5 195.5,-604.5 \" stroke=\"#000000\"/>\n<text fill=\"#000000\" font-family=\"Times,serif\" font-size=\"14.00\" text-anchor=\"middle\" x=\"166.5\" y=\"-589.3\">output:</text>\n<polyline fill=\"none\" points=\"195.5,-581.5 195.5,-627.5 \" stroke=\"#000000\"/>\n<text fill=\"#000000\" font-family=\"Times,serif\" font-size=\"14.00\" text-anchor=\"middle\" x=\"243\" y=\"-612.3\">(None, 1, 10)</text>\n<polyline fill=\"none\" points=\"195.5,-604.5 290.5,-604.5 \" stroke=\"#000000\"/>\n<text fill=\"#000000\" font-family=\"Times,serif\" font-size=\"14.00\" text-anchor=\"middle\" x=\"243\" y=\"-589.3\">(None, 10)</text>\n</g>\n<!-- 139793495349712&#45;&gt;139793497769424 -->\n<g class=\"edge\" id=\"edge7\">\n<title>139793495349712-&gt;139793497769424</title>\n<path d=\"M142.6142,-664.3799C143.0097,-656.1745 143.463,-646.7679 143.8914,-637.8786\" fill=\"none\" stroke=\"#000000\"/>\n<polygon fill=\"#000000\" points=\"147.3924,-637.9409 144.3779,-627.784 140.4005,-637.6039 147.3924,-637.9409\" stroke=\"#000000\"/>\n</g>\n<!-- 139793498399248 -->\n<g class=\"node\" id=\"node15\">\n<title>139793498399248</title>\n<polygon fill=\"none\" points=\"309.5,-581.5 309.5,-627.5 591.5,-627.5 591.5,-581.5 309.5,-581.5\" stroke=\"#000000\"/>\n<text fill=\"#000000\" font-family=\"Times,serif\" font-size=\"14.00\" text-anchor=\"middle\" x=\"378\" y=\"-600.8\">reshape_21: Reshape</text>\n<polyline fill=\"none\" points=\"446.5,-581.5 446.5,-627.5 \" stroke=\"#000000\"/>\n<text fill=\"#000000\" font-family=\"Times,serif\" font-size=\"14.00\" text-anchor=\"middle\" x=\"475.5\" y=\"-612.3\">input:</text>\n<polyline fill=\"none\" points=\"446.5,-604.5 504.5,-604.5 \" stroke=\"#000000\"/>\n<text fill=\"#000000\" font-family=\"Times,serif\" font-size=\"14.00\" text-anchor=\"middle\" x=\"475.5\" y=\"-589.3\">output:</text>\n<polyline fill=\"none\" points=\"504.5,-581.5 504.5,-627.5 \" stroke=\"#000000\"/>\n<text fill=\"#000000\" font-family=\"Times,serif\" font-size=\"14.00\" text-anchor=\"middle\" x=\"548\" y=\"-612.3\">(None, 1, 6)</text>\n<polyline fill=\"none\" points=\"504.5,-604.5 591.5,-604.5 \" stroke=\"#000000\"/>\n<text fill=\"#000000\" font-family=\"Times,serif\" font-size=\"14.00\" text-anchor=\"middle\" x=\"548\" y=\"-589.3\">(None, 6)</text>\n</g>\n<!-- 139793495317968&#45;&gt;139793498399248 -->\n<g class=\"edge\" id=\"edge8\">\n<title>139793495317968-&gt;139793498399248</title>\n<path d=\"M439.6783,-664.3799C441.1612,-656.1745 442.8612,-646.7679 444.4677,-637.8786\" fill=\"none\" stroke=\"#000000\"/>\n<polygon fill=\"#000000\" points=\"447.9578,-638.2471 446.292,-627.784 441.0693,-637.0021 447.9578,-638.2471\" stroke=\"#000000\"/>\n</g>\n<!-- 139793498339792 -->\n<g class=\"node\" id=\"node9\">\n<title>139793498339792</title>\n<polygon fill=\"none\" points=\"585,-664.5 585,-710.5 864,-710.5 864,-664.5 585,-664.5\" stroke=\"#000000\"/>\n<text fill=\"#000000\" font-family=\"Times,serif\" font-size=\"14.00\" text-anchor=\"middle\" x=\"655\" y=\"-683.8\">input_27: InputLayer</text>\n<polyline fill=\"none\" points=\"725,-664.5 725,-710.5 \" stroke=\"#000000\"/>\n<text fill=\"#000000\" font-family=\"Times,serif\" font-size=\"14.00\" text-anchor=\"middle\" x=\"754\" y=\"-695.3\">input:</text>\n<polyline fill=\"none\" points=\"725,-687.5 783,-687.5 \" stroke=\"#000000\"/>\n<text fill=\"#000000\" font-family=\"Times,serif\" font-size=\"14.00\" text-anchor=\"middle\" x=\"754\" y=\"-672.3\">output:</text>\n<polyline fill=\"none\" points=\"783,-664.5 783,-710.5 \" stroke=\"#000000\"/>\n<text fill=\"#000000\" font-family=\"Times,serif\" font-size=\"14.00\" text-anchor=\"middle\" x=\"823.5\" y=\"-695.3\">[(None, 1)]</text>\n<polyline fill=\"none\" points=\"783,-687.5 864,-687.5 \" stroke=\"#000000\"/>\n<text fill=\"#000000\" font-family=\"Times,serif\" font-size=\"14.00\" text-anchor=\"middle\" x=\"823.5\" y=\"-672.3\">[(None, 1)]</text>\n</g>\n<!-- 139793498160656 -->\n<g class=\"node\" id=\"node16\">\n<title>139793498160656</title>\n<polygon fill=\"none\" points=\"610.5,-581.5 610.5,-627.5 838.5,-627.5 838.5,-581.5 610.5,-581.5\" stroke=\"#000000\"/>\n<text fill=\"#000000\" font-family=\"Times,serif\" font-size=\"14.00\" text-anchor=\"middle\" x=\"659.5\" y=\"-600.8\">Promo: Dense</text>\n<polyline fill=\"none\" points=\"708.5,-581.5 708.5,-627.5 \" stroke=\"#000000\"/>\n<text fill=\"#000000\" font-family=\"Times,serif\" font-size=\"14.00\" text-anchor=\"middle\" x=\"737.5\" y=\"-612.3\">input:</text>\n<polyline fill=\"none\" points=\"708.5,-604.5 766.5,-604.5 \" stroke=\"#000000\"/>\n<text fill=\"#000000\" font-family=\"Times,serif\" font-size=\"14.00\" text-anchor=\"middle\" x=\"737.5\" y=\"-589.3\">output:</text>\n<polyline fill=\"none\" points=\"766.5,-581.5 766.5,-627.5 \" stroke=\"#000000\"/>\n<text fill=\"#000000\" font-family=\"Times,serif\" font-size=\"14.00\" text-anchor=\"middle\" x=\"802.5\" y=\"-612.3\">(None, 1)</text>\n<polyline fill=\"none\" points=\"766.5,-604.5 838.5,-604.5 \" stroke=\"#000000\"/>\n<text fill=\"#000000\" font-family=\"Times,serif\" font-size=\"14.00\" text-anchor=\"middle\" x=\"802.5\" y=\"-589.3\">(None, 1)</text>\n</g>\n<!-- 139793498339792&#45;&gt;139793498160656 -->\n<g class=\"edge\" id=\"edge9\">\n<title>139793498339792-&gt;139793498160656</title>\n<path d=\"M724.5,-664.3799C724.5,-656.1745 724.5,-646.7679 724.5,-637.8786\" fill=\"none\" stroke=\"#000000\"/>\n<polygon fill=\"#000000\" points=\"728.0001,-637.784 724.5,-627.784 721.0001,-637.784 728.0001,-637.784\" stroke=\"#000000\"/>\n</g>\n<!-- 139793495317392 -->\n<g class=\"node\" id=\"node17\">\n<title>139793495317392</title>\n<polygon fill=\"none\" points=\"856.5,-581.5 856.5,-627.5 1138.5,-627.5 1138.5,-581.5 856.5,-581.5\" stroke=\"#000000\"/>\n<text fill=\"#000000\" font-family=\"Times,serif\" font-size=\"14.00\" text-anchor=\"middle\" x=\"925\" y=\"-600.8\">reshape_22: Reshape</text>\n<polyline fill=\"none\" points=\"993.5,-581.5 993.5,-627.5 \" stroke=\"#000000\"/>\n<text fill=\"#000000\" font-family=\"Times,serif\" font-size=\"14.00\" text-anchor=\"middle\" x=\"1022.5\" y=\"-612.3\">input:</text>\n<polyline fill=\"none\" points=\"993.5,-604.5 1051.5,-604.5 \" stroke=\"#000000\"/>\n<text fill=\"#000000\" font-family=\"Times,serif\" font-size=\"14.00\" text-anchor=\"middle\" x=\"1022.5\" y=\"-589.3\">output:</text>\n<polyline fill=\"none\" points=\"1051.5,-581.5 1051.5,-627.5 \" stroke=\"#000000\"/>\n<text fill=\"#000000\" font-family=\"Times,serif\" font-size=\"14.00\" text-anchor=\"middle\" x=\"1095\" y=\"-612.3\">(None, 1, 2)</text>\n<polyline fill=\"none\" points=\"1051.5,-604.5 1138.5,-604.5 \" stroke=\"#000000\"/>\n<text fill=\"#000000\" font-family=\"Times,serif\" font-size=\"14.00\" text-anchor=\"middle\" x=\"1095\" y=\"-589.3\">(None, 2)</text>\n</g>\n<!-- 139793495269520&#45;&gt;139793495317392 -->\n<g class=\"edge\" id=\"edge10\">\n<title>139793495269520-&gt;139793495317392</title>\n<path d=\"M1008.3217,-664.3799C1006.8388,-656.1745 1005.1388,-646.7679 1003.5323,-637.8786\" fill=\"none\" stroke=\"#000000\"/>\n<polygon fill=\"#000000\" points=\"1006.9307,-637.0021 1001.708,-627.784 1000.0422,-638.2471 1006.9307,-637.0021\" stroke=\"#000000\"/>\n</g>\n<!-- 139793495263376 -->\n<g class=\"node\" id=\"node18\">\n<title>139793495263376</title>\n<polygon fill=\"none\" points=\"1156.5,-581.5 1156.5,-627.5 1438.5,-627.5 1438.5,-581.5 1156.5,-581.5\" stroke=\"#000000\"/>\n<text fill=\"#000000\" font-family=\"Times,serif\" font-size=\"14.00\" text-anchor=\"middle\" x=\"1225\" y=\"-600.8\">reshape_23: Reshape</text>\n<polyline fill=\"none\" points=\"1293.5,-581.5 1293.5,-627.5 \" stroke=\"#000000\"/>\n<text fill=\"#000000\" font-family=\"Times,serif\" font-size=\"14.00\" text-anchor=\"middle\" x=\"1322.5\" y=\"-612.3\">input:</text>\n<polyline fill=\"none\" points=\"1293.5,-604.5 1351.5,-604.5 \" stroke=\"#000000\"/>\n<text fill=\"#000000\" font-family=\"Times,serif\" font-size=\"14.00\" text-anchor=\"middle\" x=\"1322.5\" y=\"-589.3\">output:</text>\n<polyline fill=\"none\" points=\"1351.5,-581.5 1351.5,-627.5 \" stroke=\"#000000\"/>\n<text fill=\"#000000\" font-family=\"Times,serif\" font-size=\"14.00\" text-anchor=\"middle\" x=\"1395\" y=\"-612.3\">(None, 1, 6)</text>\n<polyline fill=\"none\" points=\"1351.5,-604.5 1438.5,-604.5 \" stroke=\"#000000\"/>\n<text fill=\"#000000\" font-family=\"Times,serif\" font-size=\"14.00\" text-anchor=\"middle\" x=\"1395\" y=\"-589.3\">(None, 6)</text>\n</g>\n<!-- 139793495331728&#45;&gt;139793495263376 -->\n<g class=\"edge\" id=\"edge11\">\n<title>139793495331728-&gt;139793495263376</title>\n<path d=\"M1300.3858,-664.3799C1299.9903,-656.1745 1299.537,-646.7679 1299.1086,-637.8786\" fill=\"none\" stroke=\"#000000\"/>\n<polygon fill=\"#000000\" points=\"1302.5995,-637.6039 1298.6221,-627.784 1295.6076,-637.9409 1302.5995,-637.6039\" stroke=\"#000000\"/>\n</g>\n<!-- 139793495253136 -->\n<g class=\"node\" id=\"node19\">\n<title>139793495253136</title>\n<polygon fill=\"none\" points=\"1456.5,-581.5 1456.5,-627.5 1746.5,-627.5 1746.5,-581.5 1456.5,-581.5\" stroke=\"#000000\"/>\n<text fill=\"#000000\" font-family=\"Times,serif\" font-size=\"14.00\" text-anchor=\"middle\" x=\"1525\" y=\"-600.8\">reshape_24: Reshape</text>\n<polyline fill=\"none\" points=\"1593.5,-581.5 1593.5,-627.5 \" stroke=\"#000000\"/>\n<text fill=\"#000000\" font-family=\"Times,serif\" font-size=\"14.00\" text-anchor=\"middle\" x=\"1622.5\" y=\"-612.3\">input:</text>\n<polyline fill=\"none\" points=\"1593.5,-604.5 1651.5,-604.5 \" stroke=\"#000000\"/>\n<text fill=\"#000000\" font-family=\"Times,serif\" font-size=\"14.00\" text-anchor=\"middle\" x=\"1622.5\" y=\"-589.3\">output:</text>\n<polyline fill=\"none\" points=\"1651.5,-581.5 1651.5,-627.5 \" stroke=\"#000000\"/>\n<text fill=\"#000000\" font-family=\"Times,serif\" font-size=\"14.00\" text-anchor=\"middle\" x=\"1699\" y=\"-612.3\">(None, 1, 10)</text>\n<polyline fill=\"none\" points=\"1651.5,-604.5 1746.5,-604.5 \" stroke=\"#000000\"/>\n<text fill=\"#000000\" font-family=\"Times,serif\" font-size=\"14.00\" text-anchor=\"middle\" x=\"1699\" y=\"-589.3\">(None, 10)</text>\n</g>\n<!-- 139793498160272&#45;&gt;139793495253136 -->\n<g class=\"edge\" id=\"edge12\">\n<title>139793498160272-&gt;139793495253136</title>\n<path d=\"M1601.5,-664.3799C1601.5,-656.1745 1601.5,-646.7679 1601.5,-637.8786\" fill=\"none\" stroke=\"#000000\"/>\n<polygon fill=\"#000000\" points=\"1605.0001,-637.784 1601.5,-627.784 1598.0001,-637.784 1605.0001,-637.784\" stroke=\"#000000\"/>\n</g>\n<!-- 139793494051792 -->\n<g class=\"node\" id=\"node20\">\n<title>139793494051792</title>\n<polygon fill=\"none\" points=\"1764.5,-581.5 1764.5,-627.5 2046.5,-627.5 2046.5,-581.5 1764.5,-581.5\" stroke=\"#000000\"/>\n<text fill=\"#000000\" font-family=\"Times,serif\" font-size=\"14.00\" text-anchor=\"middle\" x=\"1833\" y=\"-600.8\">reshape_25: Reshape</text>\n<polyline fill=\"none\" points=\"1901.5,-581.5 1901.5,-627.5 \" stroke=\"#000000\"/>\n<text fill=\"#000000\" font-family=\"Times,serif\" font-size=\"14.00\" text-anchor=\"middle\" x=\"1930.5\" y=\"-612.3\">input:</text>\n<polyline fill=\"none\" points=\"1901.5,-604.5 1959.5,-604.5 \" stroke=\"#000000\"/>\n<text fill=\"#000000\" font-family=\"Times,serif\" font-size=\"14.00\" text-anchor=\"middle\" x=\"1930.5\" y=\"-589.3\">output:</text>\n<polyline fill=\"none\" points=\"1959.5,-581.5 1959.5,-627.5 \" stroke=\"#000000\"/>\n<text fill=\"#000000\" font-family=\"Times,serif\" font-size=\"14.00\" text-anchor=\"middle\" x=\"2003\" y=\"-612.3\">(None, 1, 6)</text>\n<polyline fill=\"none\" points=\"1959.5,-604.5 2046.5,-604.5 \" stroke=\"#000000\"/>\n<text fill=\"#000000\" font-family=\"Times,serif\" font-size=\"14.00\" text-anchor=\"middle\" x=\"2003\" y=\"-589.3\">(None, 6)</text>\n</g>\n<!-- 139793495281104&#45;&gt;139793494051792 -->\n<g class=\"edge\" id=\"edge13\">\n<title>139793495281104-&gt;139793494051792</title>\n<path d=\"M1905.5,-664.3799C1905.5,-656.1745 1905.5,-646.7679 1905.5,-637.8786\" fill=\"none\" stroke=\"#000000\"/>\n<polygon fill=\"#000000\" points=\"1909.0001,-637.784 1905.5,-627.784 1902.0001,-637.784 1909.0001,-637.784\" stroke=\"#000000\"/>\n</g>\n<!-- 139793497770704 -->\n<g class=\"node\" id=\"node21\">\n<title>139793497770704</title>\n<polygon fill=\"none\" points=\"644,-498.5 644,-544.5 1351,-544.5 1351,-498.5 644,-498.5\" stroke=\"#000000\"/>\n<text fill=\"#000000\" font-family=\"Times,serif\" font-size=\"14.00\" text-anchor=\"middle\" x=\"731.5\" y=\"-517.8\">concatenate_2: Concatenate</text>\n<polyline fill=\"none\" points=\"819,-498.5 819,-544.5 \" stroke=\"#000000\"/>\n<text fill=\"#000000\" font-family=\"Times,serif\" font-size=\"14.00\" text-anchor=\"middle\" x=\"848\" y=\"-529.3\">input:</text>\n<polyline fill=\"none\" points=\"819,-521.5 877,-521.5 \" stroke=\"#000000\"/>\n<text fill=\"#000000\" font-family=\"Times,serif\" font-size=\"14.00\" text-anchor=\"middle\" x=\"848\" y=\"-506.3\">output:</text>\n<polyline fill=\"none\" points=\"877,-498.5 877,-544.5 \" stroke=\"#000000\"/>\n<text fill=\"#000000\" font-family=\"Times,serif\" font-size=\"14.00\" text-anchor=\"middle\" x=\"1114\" y=\"-529.3\">[(None, 10), (None, 6), (None, 1), (None, 2), (None, 6), (None, 10), (None, 6)]</text>\n<polyline fill=\"none\" points=\"877,-521.5 1351,-521.5 \" stroke=\"#000000\"/>\n<text fill=\"#000000\" font-family=\"Times,serif\" font-size=\"14.00\" text-anchor=\"middle\" x=\"1114\" y=\"-506.3\">(None, 41)</text>\n</g>\n<!-- 139793497769424&#45;&gt;139793497770704 -->\n<g class=\"edge\" id=\"edge14\">\n<title>139793497769424-&gt;139793497770704</title>\n<path d=\"M290.6707,-582.1963C293.9766,-581.7834 297.2566,-581.3839 300.5,-581 419.4475,-566.9212 550.1947,-554.8592 665.9954,-545.3496\" fill=\"none\" stroke=\"#000000\"/>\n<polygon fill=\"#000000\" points=\"666.4005,-548.8282 676.0819,-544.5246 665.8299,-541.8515 666.4005,-548.8282\" stroke=\"#000000\"/>\n</g>\n<!-- 139793498399248&#45;&gt;139793497770704 -->\n<g class=\"edge\" id=\"edge15\">\n<title>139793498399248-&gt;139793497770704</title>\n<path d=\"M591.5574,-582.5234C594.9037,-582.0098 598.2218,-581.5014 601.5,-581 677.4731,-569.3807 761.6775,-556.7009 832.8364,-546.0434\" fill=\"none\" stroke=\"#000000\"/>\n<polygon fill=\"#000000\" points=\"833.417,-549.4956 842.7885,-544.5533 832.3804,-542.5727 833.417,-549.4956\" stroke=\"#000000\"/>\n</g>\n<!-- 139793498160656&#45;&gt;139793497770704 -->\n<g class=\"edge\" id=\"edge16\">\n<title>139793498160656-&gt;139793497770704</title>\n<path d=\"M800.1832,-581.4901C834.8003,-570.9655 875.977,-558.4466 911.737,-547.5745\" fill=\"none\" stroke=\"#000000\"/>\n<polygon fill=\"#000000\" points=\"913.1201,-550.8122 921.6696,-544.5547 911.0839,-544.1149 913.1201,-550.8122\" stroke=\"#000000\"/>\n</g>\n<!-- 139793495317392&#45;&gt;139793497770704 -->\n<g class=\"edge\" id=\"edge17\">\n<title>139793495317392-&gt;139793497770704</title>\n<path d=\"M997.5,-581.3799C997.5,-573.1745 997.5,-563.7679 997.5,-554.8786\" fill=\"none\" stroke=\"#000000\"/>\n<polygon fill=\"#000000\" points=\"1001.0001,-554.784 997.5,-544.784 994.0001,-554.784 1001.0001,-554.784\" stroke=\"#000000\"/>\n</g>\n<!-- 139793495263376&#45;&gt;139793497770704 -->\n<g class=\"edge\" id=\"edge18\">\n<title>139793495263376-&gt;139793497770704</title>\n<path d=\"M1214.3317,-581.4901C1175.8845,-570.853 1130.0741,-558.1788 1090.4876,-547.2266\" fill=\"none\" stroke=\"#000000\"/>\n<polygon fill=\"#000000\" points=\"1091.4014,-543.848 1080.8301,-544.5547 1089.5348,-550.5945 1091.4014,-543.848\" stroke=\"#000000\"/>\n</g>\n<!-- 139793495253136&#45;&gt;139793497770704 -->\n<g class=\"edge\" id=\"edge19\">\n<title>139793495253136-&gt;139793497770704</title>\n<path d=\"M1456.4215,-582.2788C1453.4218,-581.8461 1450.4453,-581.4194 1447.5,-581 1362.488,-568.8947 1268.3182,-556.3147 1188.1882,-545.8573\" fill=\"none\" stroke=\"#000000\"/>\n<polygon fill=\"#000000\" points=\"1188.3542,-542.3494 1177.9856,-544.5274 1187.4493,-549.2907 1188.3542,-542.3494\" stroke=\"#000000\"/>\n</g>\n<!-- 139793494051792&#45;&gt;139793497770704 -->\n<g class=\"edge\" id=\"edge20\">\n<title>139793494051792-&gt;139793497770704</title>\n<path d=\"M1764.2198,-582.0554C1761.289,-581.6905 1758.3797,-581.3381 1755.5,-581 1627.3765,-565.9577 1486.6092,-553.7291 1361.5236,-544.3581\" fill=\"none\" stroke=\"#000000\"/>\n<polygon fill=\"#000000\" points=\"1361.6288,-540.8563 1351.3962,-543.603 1361.1083,-547.8369 1361.6288,-540.8563\" stroke=\"#000000\"/>\n</g>\n<!-- 139793494048976 -->\n<g class=\"node\" id=\"node22\">\n<title>139793494048976</title>\n<polygon fill=\"none\" points=\"864,-415.5 864,-461.5 1131,-461.5 1131,-415.5 864,-415.5\" stroke=\"#000000\"/>\n<text fill=\"#000000\" font-family=\"Times,serif\" font-size=\"14.00\" text-anchor=\"middle\" x=\"921\" y=\"-434.8\">dense_10: Dense</text>\n<polyline fill=\"none\" points=\"978,-415.5 978,-461.5 \" stroke=\"#000000\"/>\n<text fill=\"#000000\" font-family=\"Times,serif\" font-size=\"14.00\" text-anchor=\"middle\" x=\"1007\" y=\"-446.3\">input:</text>\n<polyline fill=\"none\" points=\"978,-438.5 1036,-438.5 \" stroke=\"#000000\"/>\n<text fill=\"#000000\" font-family=\"Times,serif\" font-size=\"14.00\" text-anchor=\"middle\" x=\"1007\" y=\"-423.3\">output:</text>\n<polyline fill=\"none\" points=\"1036,-415.5 1036,-461.5 \" stroke=\"#000000\"/>\n<text fill=\"#000000\" font-family=\"Times,serif\" font-size=\"14.00\" text-anchor=\"middle\" x=\"1083.5\" y=\"-446.3\">(None, 41)</text>\n<polyline fill=\"none\" points=\"1036,-438.5 1131,-438.5 \" stroke=\"#000000\"/>\n<text fill=\"#000000\" font-family=\"Times,serif\" font-size=\"14.00\" text-anchor=\"middle\" x=\"1083.5\" y=\"-423.3\">(None, 1000)</text>\n</g>\n<!-- 139793497770704&#45;&gt;139793494048976 -->\n<g class=\"edge\" id=\"edge21\">\n<title>139793497770704-&gt;139793494048976</title>\n<path d=\"M997.5,-498.3799C997.5,-490.1745 997.5,-480.7679 997.5,-471.8786\" fill=\"none\" stroke=\"#000000\"/>\n<polygon fill=\"#000000\" points=\"1001.0001,-471.784 997.5,-461.784 994.0001,-471.784 1001.0001,-471.784\" stroke=\"#000000\"/>\n</g>\n<!-- 139793495294352 -->\n<g class=\"node\" id=\"node23\">\n<title>139793495294352</title>\n<polygon fill=\"none\" points=\"844,-332.5 844,-378.5 1151,-378.5 1151,-332.5 844,-332.5\" stroke=\"#000000\"/>\n<text fill=\"#000000\" font-family=\"Times,serif\" font-size=\"14.00\" text-anchor=\"middle\" x=\"921\" y=\"-351.8\">activation_6: Activation</text>\n<polyline fill=\"none\" points=\"998,-332.5 998,-378.5 \" stroke=\"#000000\"/>\n<text fill=\"#000000\" font-family=\"Times,serif\" font-size=\"14.00\" text-anchor=\"middle\" x=\"1027\" y=\"-363.3\">input:</text>\n<polyline fill=\"none\" points=\"998,-355.5 1056,-355.5 \" stroke=\"#000000\"/>\n<text fill=\"#000000\" font-family=\"Times,serif\" font-size=\"14.00\" text-anchor=\"middle\" x=\"1027\" y=\"-340.3\">output:</text>\n<polyline fill=\"none\" points=\"1056,-332.5 1056,-378.5 \" stroke=\"#000000\"/>\n<text fill=\"#000000\" font-family=\"Times,serif\" font-size=\"14.00\" text-anchor=\"middle\" x=\"1103.5\" y=\"-363.3\">(None, 1000)</text>\n<polyline fill=\"none\" points=\"1056,-355.5 1151,-355.5 \" stroke=\"#000000\"/>\n<text fill=\"#000000\" font-family=\"Times,serif\" font-size=\"14.00\" text-anchor=\"middle\" x=\"1103.5\" y=\"-340.3\">(None, 1000)</text>\n</g>\n<!-- 139793494048976&#45;&gt;139793495294352 -->\n<g class=\"edge\" id=\"edge22\">\n<title>139793494048976-&gt;139793495294352</title>\n<path d=\"M997.5,-415.3799C997.5,-407.1745 997.5,-397.7679 997.5,-388.8786\" fill=\"none\" stroke=\"#000000\"/>\n<polygon fill=\"#000000\" points=\"1001.0001,-388.784 997.5,-378.784 994.0001,-388.784 1001.0001,-388.784\" stroke=\"#000000\"/>\n</g>\n<!-- 139793495295312 -->\n<g class=\"node\" id=\"node24\">\n<title>139793495295312</title>\n<polygon fill=\"none\" points=\"864.5,-249.5 864.5,-295.5 1130.5,-295.5 1130.5,-249.5 864.5,-249.5\" stroke=\"#000000\"/>\n<text fill=\"#000000\" font-family=\"Times,serif\" font-size=\"14.00\" text-anchor=\"middle\" x=\"921\" y=\"-268.8\">dense_11: Dense</text>\n<polyline fill=\"none\" points=\"977.5,-249.5 977.5,-295.5 \" stroke=\"#000000\"/>\n<text fill=\"#000000\" font-family=\"Times,serif\" font-size=\"14.00\" text-anchor=\"middle\" x=\"1006.5\" y=\"-280.3\">input:</text>\n<polyline fill=\"none\" points=\"977.5,-272.5 1035.5,-272.5 \" stroke=\"#000000\"/>\n<text fill=\"#000000\" font-family=\"Times,serif\" font-size=\"14.00\" text-anchor=\"middle\" x=\"1006.5\" y=\"-257.3\">output:</text>\n<polyline fill=\"none\" points=\"1035.5,-249.5 1035.5,-295.5 \" stroke=\"#000000\"/>\n<text fill=\"#000000\" font-family=\"Times,serif\" font-size=\"14.00\" text-anchor=\"middle\" x=\"1083\" y=\"-280.3\">(None, 1000)</text>\n<polyline fill=\"none\" points=\"1035.5,-272.5 1130.5,-272.5 \" stroke=\"#000000\"/>\n<text fill=\"#000000\" font-family=\"Times,serif\" font-size=\"14.00\" text-anchor=\"middle\" x=\"1083\" y=\"-257.3\">(None, 500)</text>\n</g>\n<!-- 139793495294352&#45;&gt;139793495295312 -->\n<g class=\"edge\" id=\"edge23\">\n<title>139793495294352-&gt;139793495295312</title>\n<path d=\"M997.5,-332.3799C997.5,-324.1745 997.5,-314.7679 997.5,-305.8786\" fill=\"none\" stroke=\"#000000\"/>\n<polygon fill=\"#000000\" points=\"1001.0001,-305.784 997.5,-295.784 994.0001,-305.784 1001.0001,-305.784\" stroke=\"#000000\"/>\n</g>\n<!-- 139793498918672 -->\n<g class=\"node\" id=\"node25\">\n<title>139793498918672</title>\n<polygon fill=\"none\" points=\"848,-166.5 848,-212.5 1147,-212.5 1147,-166.5 848,-166.5\" stroke=\"#000000\"/>\n<text fill=\"#000000\" font-family=\"Times,serif\" font-size=\"14.00\" text-anchor=\"middle\" x=\"925\" y=\"-185.8\">activation_7: Activation</text>\n<polyline fill=\"none\" points=\"1002,-166.5 1002,-212.5 \" stroke=\"#000000\"/>\n<text fill=\"#000000\" font-family=\"Times,serif\" font-size=\"14.00\" text-anchor=\"middle\" x=\"1031\" y=\"-197.3\">input:</text>\n<polyline fill=\"none\" points=\"1002,-189.5 1060,-189.5 \" stroke=\"#000000\"/>\n<text fill=\"#000000\" font-family=\"Times,serif\" font-size=\"14.00\" text-anchor=\"middle\" x=\"1031\" y=\"-174.3\">output:</text>\n<polyline fill=\"none\" points=\"1060,-166.5 1060,-212.5 \" stroke=\"#000000\"/>\n<text fill=\"#000000\" font-family=\"Times,serif\" font-size=\"14.00\" text-anchor=\"middle\" x=\"1103.5\" y=\"-197.3\">(None, 500)</text>\n<polyline fill=\"none\" points=\"1060,-189.5 1147,-189.5 \" stroke=\"#000000\"/>\n<text fill=\"#000000\" font-family=\"Times,serif\" font-size=\"14.00\" text-anchor=\"middle\" x=\"1103.5\" y=\"-174.3\">(None, 500)</text>\n</g>\n<!-- 139793495295312&#45;&gt;139793498918672 -->\n<g class=\"edge\" id=\"edge24\">\n<title>139793495295312-&gt;139793498918672</title>\n<path d=\"M997.5,-249.3799C997.5,-241.1745 997.5,-231.7679 997.5,-222.8786\" fill=\"none\" stroke=\"#000000\"/>\n<polygon fill=\"#000000\" points=\"1001.0001,-222.784 997.5,-212.784 994.0001,-222.784 1001.0001,-222.784\" stroke=\"#000000\"/>\n</g>\n<!-- 139793493583888 -->\n<g class=\"node\" id=\"node26\">\n<title>139793493583888</title>\n<polygon fill=\"none\" points=\"868,-83.5 868,-129.5 1127,-129.5 1127,-83.5 868,-83.5\" stroke=\"#000000\"/>\n<text fill=\"#000000\" font-family=\"Times,serif\" font-size=\"14.00\" text-anchor=\"middle\" x=\"925\" y=\"-102.8\">dense_12: Dense</text>\n<polyline fill=\"none\" points=\"982,-83.5 982,-129.5 \" stroke=\"#000000\"/>\n<text fill=\"#000000\" font-family=\"Times,serif\" font-size=\"14.00\" text-anchor=\"middle\" x=\"1011\" y=\"-114.3\">input:</text>\n<polyline fill=\"none\" points=\"982,-106.5 1040,-106.5 \" stroke=\"#000000\"/>\n<text fill=\"#000000\" font-family=\"Times,serif\" font-size=\"14.00\" text-anchor=\"middle\" x=\"1011\" y=\"-91.3\">output:</text>\n<polyline fill=\"none\" points=\"1040,-83.5 1040,-129.5 \" stroke=\"#000000\"/>\n<text fill=\"#000000\" font-family=\"Times,serif\" font-size=\"14.00\" text-anchor=\"middle\" x=\"1083.5\" y=\"-114.3\">(None, 500)</text>\n<polyline fill=\"none\" points=\"1040,-106.5 1127,-106.5 \" stroke=\"#000000\"/>\n<text fill=\"#000000\" font-family=\"Times,serif\" font-size=\"14.00\" text-anchor=\"middle\" x=\"1083.5\" y=\"-91.3\">(None, 1)</text>\n</g>\n<!-- 139793498918672&#45;&gt;139793493583888 -->\n<g class=\"edge\" id=\"edge25\">\n<title>139793498918672-&gt;139793493583888</title>\n<path d=\"M997.5,-166.3799C997.5,-158.1745 997.5,-148.7679 997.5,-139.8786\" fill=\"none\" stroke=\"#000000\"/>\n<polygon fill=\"#000000\" points=\"1001.0001,-139.784 997.5,-129.784 994.0001,-139.784 1001.0001,-139.784\" stroke=\"#000000\"/>\n</g>\n<!-- 139793493585680 -->\n<g class=\"node\" id=\"node27\">\n<title>139793493585680</title>\n<polygon fill=\"none\" points=\"855.5,-.5 855.5,-46.5 1139.5,-46.5 1139.5,-.5 855.5,-.5\" stroke=\"#000000\"/>\n<text fill=\"#000000\" font-family=\"Times,serif\" font-size=\"14.00\" text-anchor=\"middle\" x=\"932.5\" y=\"-19.8\">activation_8: Activation</text>\n<polyline fill=\"none\" points=\"1009.5,-.5 1009.5,-46.5 \" stroke=\"#000000\"/>\n<text fill=\"#000000\" font-family=\"Times,serif\" font-size=\"14.00\" text-anchor=\"middle\" x=\"1038.5\" y=\"-31.3\">input:</text>\n<polyline fill=\"none\" points=\"1009.5,-23.5 1067.5,-23.5 \" stroke=\"#000000\"/>\n<text fill=\"#000000\" font-family=\"Times,serif\" font-size=\"14.00\" text-anchor=\"middle\" x=\"1038.5\" y=\"-8.3\">output:</text>\n<polyline fill=\"none\" points=\"1067.5,-.5 1067.5,-46.5 \" stroke=\"#000000\"/>\n<text fill=\"#000000\" font-family=\"Times,serif\" font-size=\"14.00\" text-anchor=\"middle\" x=\"1103.5\" y=\"-31.3\">(None, 1)</text>\n<polyline fill=\"none\" points=\"1067.5,-23.5 1139.5,-23.5 \" stroke=\"#000000\"/>\n<text fill=\"#000000\" font-family=\"Times,serif\" font-size=\"14.00\" text-anchor=\"middle\" x=\"1103.5\" y=\"-8.3\">(None, 1)</text>\n</g>\n<!-- 139793493583888&#45;&gt;139793493585680 -->\n<g class=\"edge\" id=\"edge26\">\n<title>139793493583888-&gt;139793493585680</title>\n<path d=\"M997.5,-83.3799C997.5,-75.1745 997.5,-65.7679 997.5,-56.8786\" fill=\"none\" stroke=\"#000000\"/>\n<polygon fill=\"#000000\" points=\"1001.0001,-56.784 997.5,-46.784 994.0001,-56.784 1001.0001,-56.784\" stroke=\"#000000\"/>\n</g>\n</g>\n</svg>"
          },
          "metadata": {
            "tags": []
          },
          "execution_count": 22
        }
      ]
    },
    {
      "cell_type": "code",
      "metadata": {
        "id": "tqUNSxR8q3-B"
      },
      "source": [
        "#we will rescale our y_train for the model\n",
        "#the reason for this is mentioned in the paper in the same section \n",
        "max_log_y = max(np.max(np.log(y_train.astype(np.int))), np.max(np.log(y_val.astype(np.int))))\n",
        "fitting_ytr = np.log(y_train.astype(np.int)) / max_log_y"
      ],
      "execution_count": 25,
      "outputs": []
    },
    {
      "cell_type": "code",
      "metadata": {
        "id": "Np80imB4MgYY"
      },
      "source": [
        "#do the same for y_val as well\n",
        "fitting_yval = np.log(y_val.astype(np.int)) / max_log_y"
      ],
      "execution_count": 26,
      "outputs": []
    },
    {
      "cell_type": "markdown",
      "metadata": {
        "id": "6WcPVMLiF-1v"
      },
      "source": [
        "Now that we have built the model, we need to ensure that the input passed to the model is also in the same format - hence we will define a function split the features we are performing embeddings on"
      ]
    },
    {
      "cell_type": "code",
      "metadata": {
        "colab": {
          "base_uri": "https://localhost:8080/"
        },
        "id": "-KgrCCdcrqov",
        "outputId": "95b7be7d-c742-434d-dec1-69f9a65a4514"
      },
      "source": [
        "X_train[1]"
      ],
      "execution_count": 27,
      "outputs": [
        {
          "output_type": "execute_result",
          "data": {
            "text/plain": [
              "array([139,   0,   7,  16,   4,   0,   0,   8])"
            ]
          },
          "metadata": {
            "tags": []
          },
          "execution_count": 27
        }
      ]
    },
    {
      "cell_type": "code",
      "metadata": {
        "id": "o1ZSq3RetpUx"
      },
      "source": [
        "#split the features\n",
        "def split_features(X):\n",
        "    X_list = []\n",
        "    #Store index is 0 for me\n",
        "    store_index = X[..., [0]]\n",
        "    X_list.append(store_index)\n",
        "\n",
        "    day_of_week = X[..., [4]]\n",
        "    X_list.append(day_of_week)\n",
        "\n",
        "    promo = X[..., [6]]\n",
        "    X_list.append(promo)\n",
        "\n",
        "    year = X[..., [1]]\n",
        "    X_list.append(year)\n",
        "\n",
        "    month = X[..., [2]]\n",
        "    X_list.append(month)\n",
        "\n",
        "    day = X[..., [3]]\n",
        "    X_list.append(day)\n",
        "\n",
        "    State = X[..., [7]]\n",
        "    X_list.append(State)\n",
        "\n",
        "    return X_list"
      ],
      "execution_count": 28,
      "outputs": []
    },
    {
      "cell_type": "code",
      "metadata": {
        "id": "gn0ZRL6at7xg"
      },
      "source": [
        "def preprocessing(X):\n",
        "    X_list = split_features(X)\n",
        "    return X_list"
      ],
      "execution_count": 29,
      "outputs": []
    },
    {
      "cell_type": "markdown",
      "metadata": {
        "id": "UJKlX4TdGNcn"
      },
      "source": [
        "1. Add a ModelCheckpoint to save the weights \n",
        "\n",
        "2. Fit the model on the `preprocessing(X_train)` and on the fitting_y with 10 epochs and batch_size as 128 \n",
        "  * add in callback here for ModelCheckPoint and also provide validation data here. \n",
        "  * ModelCheckPoint will be used to save the weights for the model, we will use these weights for each embedding layer( you can read more about model check point [here](https://www.tensorflow.org/api_docs/python/tf/keras/callbacks/ModelCheckpoint))"
      ]
    },
    {
      "cell_type": "code",
      "metadata": {
        "id": "BCE5qF0lrEmJ",
        "colab": {
          "base_uri": "https://localhost:8080/"
        },
        "outputId": "0368d3f4-cbc6-407c-abc4-87134797b304"
      },
      "source": [
        "modelNN_emb.checkpointer = ModelCheckpoint(filepath=\"best_model_weights.hdf5\", verbose=1, save_best_only=True)\n",
        "modelNN_emb.fit(preprocessing(X_train), fitting_ytr, epochs = 10, batch_size = 128, validation_data= (preprocessing(X_val),fitting_yval), callbacks=[modelNN_emb.checkpointer])"
      ],
      "execution_count": 31,
      "outputs": [
        {
          "output_type": "stream",
          "text": [
            "Epoch 1/10\n",
            "1563/1563 [==============================] - 27s 17ms/step - loss: 0.0072 - val_loss: 0.0103\n",
            "\n",
            "Epoch 00001: val_loss improved from inf to 0.01029, saving model to best_model_weights.hdf5\n",
            "Epoch 2/10\n",
            "1563/1563 [==============================] - 27s 17ms/step - loss: 0.0070 - val_loss: 0.0096\n",
            "\n",
            "Epoch 00002: val_loss improved from 0.01029 to 0.00960, saving model to best_model_weights.hdf5\n",
            "Epoch 3/10\n",
            "1563/1563 [==============================] - 27s 17ms/step - loss: 0.0069 - val_loss: 0.0095\n",
            "\n",
            "Epoch 00003: val_loss improved from 0.00960 to 0.00946, saving model to best_model_weights.hdf5\n",
            "Epoch 4/10\n",
            "1563/1563 [==============================] - 27s 17ms/step - loss: 0.0068 - val_loss: 0.0097\n",
            "\n",
            "Epoch 00004: val_loss did not improve from 0.00946\n",
            "Epoch 5/10\n",
            "1563/1563 [==============================] - 27s 17ms/step - loss: 0.0067 - val_loss: 0.0102\n",
            "\n",
            "Epoch 00005: val_loss did not improve from 0.00946\n",
            "Epoch 6/10\n",
            "1563/1563 [==============================] - 27s 17ms/step - loss: 0.0066 - val_loss: 0.0095\n",
            "\n",
            "Epoch 00006: val_loss did not improve from 0.00946\n",
            "Epoch 7/10\n",
            "1563/1563 [==============================] - 27s 18ms/step - loss: 0.0065 - val_loss: 0.0099\n",
            "\n",
            "Epoch 00007: val_loss did not improve from 0.00946\n",
            "Epoch 8/10\n",
            "1563/1563 [==============================] - 28s 18ms/step - loss: 0.0065 - val_loss: 0.0094\n",
            "\n",
            "Epoch 00008: val_loss improved from 0.00946 to 0.00943, saving model to best_model_weights.hdf5\n",
            "Epoch 9/10\n",
            "1563/1563 [==============================] - 27s 17ms/step - loss: 0.0064 - val_loss: 0.0093\n",
            "\n",
            "Epoch 00009: val_loss improved from 0.00943 to 0.00930, saving model to best_model_weights.hdf5\n",
            "Epoch 10/10\n",
            "1563/1563 [==============================] - 27s 17ms/step - loss: 0.0064 - val_loss: 0.0096\n",
            "\n",
            "Epoch 00010: val_loss did not improve from 0.00930\n"
          ],
          "name": "stdout"
        },
        {
          "output_type": "execute_result",
          "data": {
            "text/plain": [
              "<tensorflow.python.keras.callbacks.History at 0x7f2435e5a810>"
            ]
          },
          "metadata": {
            "tags": []
          },
          "execution_count": 31
        }
      ]
    },
    {
      "cell_type": "markdown",
      "metadata": {
        "id": "PX4q6sj2qBTy"
      },
      "source": [
        "Now we will save the embeddings from the model defined above:\n",
        "check if save_embeddings is set to True first, if yes store the following:\n",
        "  1. store_embedding\n",
        "  2. dow_embedding\n",
        "  3. year_embedding\n",
        "  4. month_embedding\n",
        "  5. day_embedding\n",
        "  6. state_embedding\n",
        "\n",
        "\n",
        "Save this entire embeddings into the pickle file - **saved_embeddings_fname - embeddings.pickle**"
      ]
    },
    {
      "cell_type": "code",
      "metadata": {
        "id": "o7QS4kLLqKrH"
      },
      "source": [
        "if save_embeddings:\n",
        "    store_embedding = modelNN_emb.get_layer('store').get_weights()[0]\n",
        "    dow_embedding = modelNN_emb.get_layer('dow').get_weights()[0]\n",
        "    year_embedding = modelNN_emb.get_layer('year').get_weights()[0]\n",
        "    month_embedding = modelNN_emb.get_layer('month').get_weights()[0]\n",
        "    day_embedding = modelNN_emb.get_layer('day').get_weights()[0]\n",
        "    german_states_embedding = modelNN_emb.get_layer('state').get_weights()[0]\n",
        "    with open(saved_embeddings_fname, 'wb') as f:\n",
        "        pickle.dump([store_embedding, dow_embedding, year_embedding,\n",
        "                     month_embedding, day_embedding, german_states_embedding], f, -1)"
      ],
      "execution_count": 34,
      "outputs": []
    },
    {
      "cell_type": "markdown",
      "metadata": {
        "id": "hm5mmmJi_BCc"
      },
      "source": [
        "# You are done with Part 3!! \n",
        "Remember to save the embeddings.pickle - this will be used in Part 4!"
      ]
    }
  ]
}