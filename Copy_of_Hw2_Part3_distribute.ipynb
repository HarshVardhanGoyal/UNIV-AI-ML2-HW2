{
  "nbformat": 4,
  "nbformat_minor": 0,
  "metadata": {
    "colab": {
      "name": "Copy of Hw2_Part3_distribute.ipynb",
      "provenance": [],
      "collapsed_sections": [],
      "machine_shape": "hm",
      "include_colab_link": true
    },
    "kernelspec": {
      "name": "python3",
      "display_name": "Python 3"
    },
    "language_info": {
      "name": "python"
    }
  },
  "cells": [
    {
      "cell_type": "markdown",
      "metadata": {
        "id": "view-in-github",
        "colab_type": "text"
      },
      "source": [
        "<a href=\"https://colab.research.google.com/github/Surojit-KB/UNIV-AI-ML2-HW2/blob/main/Copy_of_Hw2_Part3_distribute.ipynb\" target=\"_parent\"><img src=\"https://colab.research.google.com/assets/colab-badge.svg\" alt=\"Open In Colab\"/></a>"
      ]
    },
    {
      "cell_type": "markdown",
      "metadata": {
        "id": "EaA1H2AHyVWQ"
      },
      "source": [
        "# ML-2: Trees, Model Interrogation and Bayesian Workflow\n",
        "# Homework 2: Rossman Kaggle: Forecasting Sales\n",
        "# Part 3 : Extracting embeddings!\n",
        "**ML-2 Cohort 1** <br>\n",
        "**Instructor: Dr. Rahul Dave**<br>\n",
        "**Max Score: 100** <br>\n",
        "Name of Students:\n",
        "1. Sukriti Paul\n",
        "2. Harsh Goyal\n",
        "3. Surojit Bhattacharyya"
      ]
    },
    {
      "cell_type": "code",
      "metadata": {
        "id": "6jBFtovs3nh1"
      },
      "source": [
        "#importing libraries\n",
        "import numpy as np\n",
        "import scipy.stats\n",
        "import scipy.special\n",
        "import matplotlib\n",
        "import matplotlib.pyplot as plt\n",
        "import matplotlib.mlab as mlab\n",
        "from matplotlib import cm\n",
        "import pandas as pd\n",
        "from sklearn.pipeline import make_pipeline, make_union, Pipeline\n",
        "from sklearn.preprocessing import StandardScaler, OrdinalEncoder\n",
        "from sklearn.metrics import mean_squared_error\n",
        "from sklearn.ensemble import GradientBoostingRegressor\n",
        "from sklearn.model_selection import ParameterGrid\n",
        "from keras.models import Sequential\n",
        "from keras.models import Model as KerasModel\n",
        "from keras.layers import Input, Dense, Activation, Reshape\n",
        "from keras.layers import Concatenate\n",
        "from keras.layers.embeddings import Embedding\n",
        "from sklearn.ensemble import RandomForestRegressor\n",
        "from sklearn import linear_model\n",
        "from sklearn.metrics import r2_score\n",
        "import pickle\n",
        "import csv\n",
        "from datetime import datetime\n",
        "from sklearn import preprocessing\n",
        "from keras.callbacks import ModelCheckpoint\n",
        "import xgboost as xgb\n",
        "from sklearn.preprocessing import OneHotEncoder\n",
        "%matplotlib inline"
      ],
      "execution_count": 25,
      "outputs": []
    },
    {
      "cell_type": "markdown",
      "metadata": {
        "id": "hlux5Gn-n-Gz"
      },
      "source": [
        "We will repeat the first initial steps again from Part 2"
      ]
    },
    {
      "cell_type": "markdown",
      "metadata": {
        "id": "h5Hi8ehR7WFX"
      },
      "source": [
        "Lets import the feature_train_data.pickle file and set X,y values from the pickle file"
      ]
    },
    {
      "cell_type": "code",
      "metadata": {
        "colab": {
          "base_uri": "https://localhost:8080/"
        },
        "id": "o59rvgzlKO7O",
        "outputId": "8e386f7e-b756-42ce-a59d-b5b026d8fb57"
      },
      "source": [
        "from google.colab import drive\n",
        "drive.mount('/content/drive')"
      ],
      "execution_count": 3,
      "outputs": [
        {
          "output_type": "stream",
          "text": [
            "Drive already mounted at /content/drive; to attempt to forcibly remount, call drive.mount(\"/content/drive\", force_remount=True).\n"
          ],
          "name": "stdout"
        }
      ]
    },
    {
      "cell_type": "code",
      "metadata": {
        "id": "arl_aj6X7VQk"
      },
      "source": [
        "with open(\"/content/drive/MyDrive/Colab Notebooks/UNIV-AI-ML2/HW/feature_train_data.pickle\", 'rb') as f:\n",
        "    (X,y) = pickle.load(f)"
      ],
      "execution_count": 31,
      "outputs": []
    },
    {
      "cell_type": "code",
      "metadata": {
        "id": "_YXBO3_0-1p4"
      },
      "source": [
        "with open(\"/content/drive/MyDrive/Colab Notebooks/UNIV-AI-ML2/HW/result.pickle\", 'rb') as f:\n",
        "    result = pickle.load(f)"
      ],
      "execution_count": 32,
      "outputs": []
    },
    {
      "cell_type": "code",
      "metadata": {
        "id": "cwMxtFTUDRFN"
      },
      "source": [
        "# we will split the train_ratio and 90% and 10% and set the train_size\n",
        "train_ratio = 0.9\n",
        "num_records = len(X)\n",
        "train_size = int(train_ratio * num_records)"
      ],
      "execution_count": 33,
      "outputs": []
    },
    {
      "cell_type": "code",
      "metadata": {
        "id": "XpP1Emg2Dni0",
        "colab": {
          "base_uri": "https://localhost:8080/"
        },
        "outputId": "bd669633-c117-45c5-eb15-735fd034dba6"
      },
      "source": [
        "#lets look at our data\n",
        "X[1], y[1]"
      ],
      "execution_count": 34,
      "outputs": [
        {
          "output_type": "execute_result",
          "data": {
            "text/plain": [
              "(array([1058,    0,    0,    0,    1,    0,    0,    1]), '4491')"
            ]
          },
          "metadata": {
            "tags": []
          },
          "execution_count": 34
        }
      ]
    },
    {
      "cell_type": "markdown",
      "metadata": {
        "id": "X2fhYw49Dz3w"
      },
      "source": [
        "The next set of inputs is following: \n",
        "\n",
        "1. Do you want to one hot encode the data?\n",
        "2. Do you want to provide embeddings as input - this will be set to **True** for models with entity embeddings\n",
        "3. Do you want to save the emmbeddings? - again set to **true** if you want to entity embeddings\n",
        "4. if 3 is set to **true**, we want to save them to a embeddings.pickle\n"
      ]
    },
    {
      "cell_type": "code",
      "metadata": {
        "id": "Tqtv6VWWDuZu"
      },
      "source": [
        "#your code here\n",
        "one_hot_as_input = False \n",
        "embeddings_as_input = True\n",
        "save_embeddings = True\n",
        "saved_embeddings_fname = \"embeddings.pickle\" "
      ],
      "execution_count": 35,
      "outputs": []
    },
    {
      "cell_type": "markdown",
      "metadata": {
        "id": "PCk7tyVQEdy6"
      },
      "source": [
        "Split the data based on the train_size - same as part 2 "
      ]
    },
    {
      "cell_type": "code",
      "metadata": {
        "id": "hLTrTSGPEaGw"
      },
      "source": [
        "#your code here\n",
        "X_train=X[:train_size,:]\n",
        "X_val=X[train_size:,:]\n",
        "y_train=y[:train_size]\n",
        "y_val=y[train_size:]"
      ],
      "execution_count": 36,
      "outputs": []
    },
    {
      "cell_type": "code",
      "metadata": {
        "id": "StnmulRkEnRt"
      },
      "source": [
        "def sample(X, y, n):\n",
        "  #your code here\n",
        "    '''random samples'''\n",
        "    num_row = X.shape[0]\n",
        "    indices = np.random.randint(num_row, size=n)\n",
        "    return X[indices, :], y[indices]"
      ],
      "execution_count": 37,
      "outputs": []
    },
    {
      "cell_type": "code",
      "metadata": {
        "id": "ednNv14aEpjS"
      },
      "source": [
        "X_train, y_train = sample(X_train, y_train, 200000)  # Simulate data sparsity\n",
        "X_val, y_val = sample(X_val, y_val, 200000)  # Simulate data sparsity"
      ],
      "execution_count": 38,
      "outputs": []
    },
    {
      "cell_type": "markdown",
      "metadata": {
        "id": "4ayLSo_1E0yF"
      },
      "source": [
        "## Now lets work with Models with Entity embedding!!\n",
        "\n",
        "To read about Entity Embeddings in more detail and its use cases look at the follwing links:\n",
        "1. [Enhancing categorical features with Entity Embeddings](https://towardsdatascience.com/enhancing-categorical-features-with-entity-embeddings-e6850a5e34ff)\n",
        "2. [Understanding Entity Embeddings and It’s Application](https://towardsdatascience.com/understanding-entity-embeddings-and-its-application-69e37ae1501d#:~:text=Loosely%20speaking%2C%20entity%20embedding%20is,a%20sentence%2C%20or%20a%20paragraph.)\n",
        "\n",
        "The basic outline of this model will be something like this:\n",
        "\n",
        "\n",
        "![Outline.jpeg](https://drive.google.com/uc?export=view&id=1cm-jylknGEFg9KjehhRy90INkUJqRwrL)"
      ]
    },
    {
      "cell_type": "markdown",
      "metadata": {
        "id": "3uOEqzd8BzK4"
      },
      "source": [
        "We will be creating the following embeddings:\n",
        "\n",
        "1. input_store - with input shape as (1,) \n",
        "  * The input_store will be passed to output_store to create an embedding layer with embedding shape as 1115, 10\n",
        "  * we will reshape this to target_shape=(10,)\n",
        "2. input_dow - with input shape as (1,) \n",
        "  * The input_dow will be passed to output_dow to create an embedding layer with embedding shape as 7, 6\n",
        "  * we will reshape this to target_shape=(6,)\n",
        "3. input_promo - with input shape as (1,) \n",
        "  * output promo will be a dense(1) for input_promo\n",
        "4. input_year - with input shape as (1,) \n",
        "  * The input_year will be passed to output_year to create an embedding layer with embedding shape as 3, 2\n",
        "  * we will reshape this to target_shape=(2,)\n",
        "5. input_month - with input shape as (1,) \n",
        "  * The input_month will be passed to output_month to create an embedding layer with embedding shape as 12, 6\n",
        "  * we will reshape this to target_shape=(6,)\n",
        "6. input_day - with input shape as (1,) \n",
        "  * The input_day will be passed to output_day to create an embedding layer with embedding shape as 31, 10\n",
        "  * we will reshape this to target_shape=(10,)\n",
        "7. input_germanstate - with input shape as (1,) \n",
        "  * The input_germanstate will be passed to output_germanstate to create an embedding layer with embedding shape as 12, 6\n",
        "  * we will reshape this to target_shape=(6,)\n",
        "\n",
        "\n",
        "* Construct an input model with all the inputs \n",
        "* Construct an output embeddings with all the outputs( basically the embeddings) - concatenate this and call it the **output model**\n",
        "\n",
        "Set the output model with the following parameters:\n",
        "\n",
        "1. Dense Layer - 1000 neurons, keep the kernel_initializer as uniform, with activaation as relu\n",
        "2. Dense Layer - 500 neurons, keep the kernel_initializer as uniform, with activaation as relu\n",
        "3. Final dense layer with 1 neuron, and activation as sigmoid\n",
        "4. Create a KerasModel called modelNN_emb:\n",
        "\n",
        "       modelNN_emb = KerasModel(inputs=input_model, outputs=output_model)\n",
        "4. Compile the model on mean absolute error and optimizer as adam"
      ]
    },
    {
      "cell_type": "code",
      "metadata": {
        "id": "0qGSxshWqRCu",
        "colab": {
          "base_uri": "https://localhost:8080/"
        },
        "outputId": "e1746bc3-926d-46ce-a1d8-4683cb268cb1"
      },
      "source": [
        "#Define the embedding NN model\n",
        "#your code here\n",
        "input_store=Input(shape=(1,))\n",
        "output_store=Embedding(1115,10,name='store')(input_store)\n",
        "output_store=Reshape(target_shape=(10,))(output_store)\n",
        "\n",
        "input_dow=Input(shape=(1,))\n",
        "output_dow=Embedding(7,6,name='dow')(input_dow)\n",
        "output_dow=Reshape(target_shape=(6,))(output_dow)\n",
        "\n",
        "input_promo=Input(shape=(1,))\n",
        "output_promo=Dense(1,name='Promo')(input_promo)\n",
        "\n",
        "input_year=Input(shape=(1,))\n",
        "output_year=Embedding(3,2,name='year')(input_year)\n",
        "output_year=Reshape(target_shape=(2,))(output_year)\n",
        "\n",
        "input_month=Input(shape=(1,))\n",
        "output_month=Embedding(12,6,name='month')(input_month)\n",
        "output_month=Reshape(target_shape=(6,))(output_month)\n",
        "\n",
        "input_day=Input(shape=(1,))\n",
        "output_day=Embedding(31,10,name='day')(input_day)\n",
        "output_day=Reshape(target_shape=(10,))(output_day)\n",
        "\n",
        "input_germanstate=Input(shape=(1,))\n",
        "output_germanstate=Embedding(12,6,name='state')(input_germanstate)\n",
        "output_germanstate=Reshape(target_shape=(6,))(output_germanstate)\n",
        "\n",
        "input_model=[input_store,input_dow,input_promo,input_year,input_month,input_day,input_germanstate]\n",
        "output_model=[output_store,output_dow,output_promo,output_year,output_month,output_day,output_germanstate]\n",
        "\n",
        "output_model=Concatenate()(output_model)\n",
        "output_model=Dense(1000, kernel_initializer=\"uniform\")(output_model)\n",
        "output_model=Activation('relu')(output_model)\n",
        "output_model=Dense(500, kernel_initializer=\"uniform\")(output_model)\n",
        "output_model=Activation('relu')(output_model)\n",
        "output_model=Dense(1)(output_model)\n",
        "output_model=Activation('sigmoid')(output_model)\n",
        "\n",
        "modelNN_emb = KerasModel(inputs=input_model, outputs=output_model)\n",
        "modelNN_emb.summary()\n",
        "modelNN_emb.compile(loss='mae',optimizer='adam')"
      ],
      "execution_count": 39,
      "outputs": [
        {
          "output_type": "stream",
          "text": [
            "Model: \"model_1\"\n",
            "__________________________________________________________________________________________________\n",
            "Layer (type)                    Output Shape         Param #     Connected to                     \n",
            "==================================================================================================\n",
            "input_8 (InputLayer)            [(None, 1)]          0                                            \n",
            "__________________________________________________________________________________________________\n",
            "input_9 (InputLayer)            [(None, 1)]          0                                            \n",
            "__________________________________________________________________________________________________\n",
            "input_11 (InputLayer)           [(None, 1)]          0                                            \n",
            "__________________________________________________________________________________________________\n",
            "input_12 (InputLayer)           [(None, 1)]          0                                            \n",
            "__________________________________________________________________________________________________\n",
            "input_13 (InputLayer)           [(None, 1)]          0                                            \n",
            "__________________________________________________________________________________________________\n",
            "input_14 (InputLayer)           [(None, 1)]          0                                            \n",
            "__________________________________________________________________________________________________\n",
            "store (Embedding)               (None, 1, 10)        11150       input_8[0][0]                    \n",
            "__________________________________________________________________________________________________\n",
            "dow (Embedding)                 (None, 1, 6)         42          input_9[0][0]                    \n",
            "__________________________________________________________________________________________________\n",
            "input_10 (InputLayer)           [(None, 1)]          0                                            \n",
            "__________________________________________________________________________________________________\n",
            "year (Embedding)                (None, 1, 2)         6           input_11[0][0]                   \n",
            "__________________________________________________________________________________________________\n",
            "month (Embedding)               (None, 1, 6)         72          input_12[0][0]                   \n",
            "__________________________________________________________________________________________________\n",
            "day (Embedding)                 (None, 1, 10)        310         input_13[0][0]                   \n",
            "__________________________________________________________________________________________________\n",
            "state (Embedding)               (None, 1, 6)         72          input_14[0][0]                   \n",
            "__________________________________________________________________________________________________\n",
            "reshape_6 (Reshape)             (None, 10)           0           store[0][0]                      \n",
            "__________________________________________________________________________________________________\n",
            "reshape_7 (Reshape)             (None, 6)            0           dow[0][0]                        \n",
            "__________________________________________________________________________________________________\n",
            "Promo (Dense)                   (None, 1)            2           input_10[0][0]                   \n",
            "__________________________________________________________________________________________________\n",
            "reshape_8 (Reshape)             (None, 2)            0           year[0][0]                       \n",
            "__________________________________________________________________________________________________\n",
            "reshape_9 (Reshape)             (None, 6)            0           month[0][0]                      \n",
            "__________________________________________________________________________________________________\n",
            "reshape_10 (Reshape)            (None, 10)           0           day[0][0]                        \n",
            "__________________________________________________________________________________________________\n",
            "reshape_11 (Reshape)            (None, 6)            0           state[0][0]                      \n",
            "__________________________________________________________________________________________________\n",
            "concatenate_1 (Concatenate)     (None, 41)           0           reshape_6[0][0]                  \n",
            "                                                                 reshape_7[0][0]                  \n",
            "                                                                 Promo[0][0]                      \n",
            "                                                                 reshape_8[0][0]                  \n",
            "                                                                 reshape_9[0][0]                  \n",
            "                                                                 reshape_10[0][0]                 \n",
            "                                                                 reshape_11[0][0]                 \n",
            "__________________________________________________________________________________________________\n",
            "dense_3 (Dense)                 (None, 1000)         42000       concatenate_1[0][0]              \n",
            "__________________________________________________________________________________________________\n",
            "activation_3 (Activation)       (None, 1000)         0           dense_3[0][0]                    \n",
            "__________________________________________________________________________________________________\n",
            "dense_4 (Dense)                 (None, 500)          500500      activation_3[0][0]               \n",
            "__________________________________________________________________________________________________\n",
            "activation_4 (Activation)       (None, 500)          0           dense_4[0][0]                    \n",
            "__________________________________________________________________________________________________\n",
            "dense_5 (Dense)                 (None, 1)            501         activation_4[0][0]               \n",
            "__________________________________________________________________________________________________\n",
            "activation_5 (Activation)       (None, 1)            0           dense_5[0][0]                    \n",
            "==================================================================================================\n",
            "Total params: 554,655\n",
            "Trainable params: 554,655\n",
            "Non-trainable params: 0\n",
            "__________________________________________________________________________________________________\n"
          ],
          "name": "stdout"
        }
      ]
    },
    {
      "cell_type": "code",
      "metadata": {
        "colab": {
          "base_uri": "https://localhost:8080/",
          "height": 813
        },
        "id": "Sq3-20RDqH4W",
        "outputId": "98c6c64f-4c27-43c8-dc4a-730b2098b137"
      },
      "source": [
        "import pydot\n",
        "from tensorflow.keras.utils import model_to_dot\n",
        "from IPython.display import SVG\n",
        "SVG(model_to_dot(modelNN_emb,  show_shapes=True, show_layer_names=True, dpi=52, rankdir='TB').create_svg())"
      ],
      "execution_count": 40,
      "outputs": [
        {
          "output_type": "execute_result",
          "data": {
            "text/plain": [
              "<IPython.core.display.SVG object>"
            ],
            "image/svg+xml": "<svg height=\"579pt\" viewBox=\"0.00 0.00 2033.50 802.00\" width=\"1469pt\" xmlns=\"http://www.w3.org/2000/svg\" xmlns:xlink=\"http://www.w3.org/1999/xlink\">\n<g class=\"graph\" id=\"graph0\" transform=\"scale(.7222 .7222) rotate(0) translate(4 798)\">\n<title>G</title>\n<polygon fill=\"#ffffff\" points=\"-4,4 -4,-798 2029.5,-798 2029.5,4 -4,4\" stroke=\"transparent\"/>\n<!-- 140368577657232 -->\n<g class=\"node\" id=\"node1\">\n<title>140368577657232</title>\n<polygon fill=\"none\" points=\".5,-747.5 .5,-793.5 272.5,-793.5 272.5,-747.5 .5,-747.5\" stroke=\"#000000\"/>\n<text fill=\"#000000\" font-family=\"Times,serif\" font-size=\"14.00\" text-anchor=\"middle\" x=\"67\" y=\"-766.8\">input_8: InputLayer</text>\n<polyline fill=\"none\" points=\"133.5,-747.5 133.5,-793.5 \" stroke=\"#000000\"/>\n<text fill=\"#000000\" font-family=\"Times,serif\" font-size=\"14.00\" text-anchor=\"middle\" x=\"162.5\" y=\"-778.3\">input:</text>\n<polyline fill=\"none\" points=\"133.5,-770.5 191.5,-770.5 \" stroke=\"#000000\"/>\n<text fill=\"#000000\" font-family=\"Times,serif\" font-size=\"14.00\" text-anchor=\"middle\" x=\"162.5\" y=\"-755.3\">output:</text>\n<polyline fill=\"none\" points=\"191.5,-747.5 191.5,-793.5 \" stroke=\"#000000\"/>\n<text fill=\"#000000\" font-family=\"Times,serif\" font-size=\"14.00\" text-anchor=\"middle\" x=\"232\" y=\"-778.3\">[(None, 1)]</text>\n<polyline fill=\"none\" points=\"191.5,-770.5 272.5,-770.5 \" stroke=\"#000000\"/>\n<text fill=\"#000000\" font-family=\"Times,serif\" font-size=\"14.00\" text-anchor=\"middle\" x=\"232\" y=\"-755.3\">[(None, 1)]</text>\n</g>\n<!-- 140368577658000 -->\n<g class=\"node\" id=\"node7\">\n<title>140368577658000</title>\n<polygon fill=\"none\" points=\"2.5,-664.5 2.5,-710.5 274.5,-710.5 274.5,-664.5 2.5,-664.5\" stroke=\"#000000\"/>\n<text fill=\"#000000\" font-family=\"Times,serif\" font-size=\"14.00\" text-anchor=\"middle\" x=\"62\" y=\"-683.8\">store: Embedding</text>\n<polyline fill=\"none\" points=\"121.5,-664.5 121.5,-710.5 \" stroke=\"#000000\"/>\n<text fill=\"#000000\" font-family=\"Times,serif\" font-size=\"14.00\" text-anchor=\"middle\" x=\"150.5\" y=\"-695.3\">input:</text>\n<polyline fill=\"none\" points=\"121.5,-687.5 179.5,-687.5 \" stroke=\"#000000\"/>\n<text fill=\"#000000\" font-family=\"Times,serif\" font-size=\"14.00\" text-anchor=\"middle\" x=\"150.5\" y=\"-672.3\">output:</text>\n<polyline fill=\"none\" points=\"179.5,-664.5 179.5,-710.5 \" stroke=\"#000000\"/>\n<text fill=\"#000000\" font-family=\"Times,serif\" font-size=\"14.00\" text-anchor=\"middle\" x=\"227\" y=\"-695.3\">(None, 1)</text>\n<polyline fill=\"none\" points=\"179.5,-687.5 274.5,-687.5 \" stroke=\"#000000\"/>\n<text fill=\"#000000\" font-family=\"Times,serif\" font-size=\"14.00\" text-anchor=\"middle\" x=\"227\" y=\"-672.3\">(None, 1, 10)</text>\n</g>\n<!-- 140368577657232&#45;&gt;140368577658000 -->\n<g class=\"edge\" id=\"edge1\">\n<title>140368577657232-&gt;140368577658000</title>\n<path d=\"M137.0571,-747.3799C137.2548,-739.1745 137.4815,-729.7679 137.6957,-720.8786\" fill=\"none\" stroke=\"#000000\"/>\n<polygon fill=\"#000000\" points=\"141.1969,-720.8655 137.9389,-710.784 134.199,-720.6968 141.1969,-720.8655\" stroke=\"#000000\"/>\n</g>\n<!-- 140368577848912 -->\n<g class=\"node\" id=\"node2\">\n<title>140368577848912</title>\n<polygon fill=\"none\" points=\"290.5,-747.5 290.5,-793.5 562.5,-793.5 562.5,-747.5 290.5,-747.5\" stroke=\"#000000\"/>\n<text fill=\"#000000\" font-family=\"Times,serif\" font-size=\"14.00\" text-anchor=\"middle\" x=\"357\" y=\"-766.8\">input_9: InputLayer</text>\n<polyline fill=\"none\" points=\"423.5,-747.5 423.5,-793.5 \" stroke=\"#000000\"/>\n<text fill=\"#000000\" font-family=\"Times,serif\" font-size=\"14.00\" text-anchor=\"middle\" x=\"452.5\" y=\"-778.3\">input:</text>\n<polyline fill=\"none\" points=\"423.5,-770.5 481.5,-770.5 \" stroke=\"#000000\"/>\n<text fill=\"#000000\" font-family=\"Times,serif\" font-size=\"14.00\" text-anchor=\"middle\" x=\"452.5\" y=\"-755.3\">output:</text>\n<polyline fill=\"none\" points=\"481.5,-747.5 481.5,-793.5 \" stroke=\"#000000\"/>\n<text fill=\"#000000\" font-family=\"Times,serif\" font-size=\"14.00\" text-anchor=\"middle\" x=\"522\" y=\"-778.3\">[(None, 1)]</text>\n<polyline fill=\"none\" points=\"481.5,-770.5 562.5,-770.5 \" stroke=\"#000000\"/>\n<text fill=\"#000000\" font-family=\"Times,serif\" font-size=\"14.00\" text-anchor=\"middle\" x=\"522\" y=\"-755.3\">[(None, 1)]</text>\n</g>\n<!-- 140368642326288 -->\n<g class=\"node\" id=\"node8\">\n<title>140368642326288</title>\n<polygon fill=\"none\" points=\"293.5,-664.5 293.5,-710.5 555.5,-710.5 555.5,-664.5 293.5,-664.5\" stroke=\"#000000\"/>\n<text fill=\"#000000\" font-family=\"Times,serif\" font-size=\"14.00\" text-anchor=\"middle\" x=\"352\" y=\"-683.8\">dow: Embedding</text>\n<polyline fill=\"none\" points=\"410.5,-664.5 410.5,-710.5 \" stroke=\"#000000\"/>\n<text fill=\"#000000\" font-family=\"Times,serif\" font-size=\"14.00\" text-anchor=\"middle\" x=\"439.5\" y=\"-695.3\">input:</text>\n<polyline fill=\"none\" points=\"410.5,-687.5 468.5,-687.5 \" stroke=\"#000000\"/>\n<text fill=\"#000000\" font-family=\"Times,serif\" font-size=\"14.00\" text-anchor=\"middle\" x=\"439.5\" y=\"-672.3\">output:</text>\n<polyline fill=\"none\" points=\"468.5,-664.5 468.5,-710.5 \" stroke=\"#000000\"/>\n<text fill=\"#000000\" font-family=\"Times,serif\" font-size=\"14.00\" text-anchor=\"middle\" x=\"512\" y=\"-695.3\">(None, 1)</text>\n<polyline fill=\"none\" points=\"468.5,-687.5 555.5,-687.5 \" stroke=\"#000000\"/>\n<text fill=\"#000000\" font-family=\"Times,serif\" font-size=\"14.00\" text-anchor=\"middle\" x=\"512\" y=\"-672.3\">(None, 1, 6)</text>\n</g>\n<!-- 140368577848912&#45;&gt;140368642326288 -->\n<g class=\"edge\" id=\"edge2\">\n<title>140368577848912-&gt;140368642326288</title>\n<path d=\"M425.9429,-747.3799C425.7452,-739.1745 425.5185,-729.7679 425.3043,-720.8786\" fill=\"none\" stroke=\"#000000\"/>\n<polygon fill=\"#000000\" points=\"428.801,-720.6968 425.0611,-710.784 421.8031,-720.8655 428.801,-720.6968\" stroke=\"#000000\"/>\n</g>\n<!-- 140368577792784 -->\n<g class=\"node\" id=\"node3\">\n<title>140368577792784</title>\n<polygon fill=\"none\" points=\"851,-747.5 851,-793.5 1130,-793.5 1130,-747.5 851,-747.5\" stroke=\"#000000\"/>\n<text fill=\"#000000\" font-family=\"Times,serif\" font-size=\"14.00\" text-anchor=\"middle\" x=\"921\" y=\"-766.8\">input_11: InputLayer</text>\n<polyline fill=\"none\" points=\"991,-747.5 991,-793.5 \" stroke=\"#000000\"/>\n<text fill=\"#000000\" font-family=\"Times,serif\" font-size=\"14.00\" text-anchor=\"middle\" x=\"1020\" y=\"-778.3\">input:</text>\n<polyline fill=\"none\" points=\"991,-770.5 1049,-770.5 \" stroke=\"#000000\"/>\n<text fill=\"#000000\" font-family=\"Times,serif\" font-size=\"14.00\" text-anchor=\"middle\" x=\"1020\" y=\"-755.3\">output:</text>\n<polyline fill=\"none\" points=\"1049,-747.5 1049,-793.5 \" stroke=\"#000000\"/>\n<text fill=\"#000000\" font-family=\"Times,serif\" font-size=\"14.00\" text-anchor=\"middle\" x=\"1089.5\" y=\"-778.3\">[(None, 1)]</text>\n<polyline fill=\"none\" points=\"1049,-770.5 1130,-770.5 \" stroke=\"#000000\"/>\n<text fill=\"#000000\" font-family=\"Times,serif\" font-size=\"14.00\" text-anchor=\"middle\" x=\"1089.5\" y=\"-755.3\">[(None, 1)]</text>\n</g>\n<!-- 140368642497296 -->\n<g class=\"node\" id=\"node10\">\n<title>140368642497296</title>\n<polygon fill=\"none\" points=\"871,-664.5 871,-710.5 1132,-710.5 1132,-664.5 871,-664.5\" stroke=\"#000000\"/>\n<text fill=\"#000000\" font-family=\"Times,serif\" font-size=\"14.00\" text-anchor=\"middle\" x=\"929\" y=\"-683.8\">year: Embedding</text>\n<polyline fill=\"none\" points=\"987,-664.5 987,-710.5 \" stroke=\"#000000\"/>\n<text fill=\"#000000\" font-family=\"Times,serif\" font-size=\"14.00\" text-anchor=\"middle\" x=\"1016\" y=\"-695.3\">input:</text>\n<polyline fill=\"none\" points=\"987,-687.5 1045,-687.5 \" stroke=\"#000000\"/>\n<text fill=\"#000000\" font-family=\"Times,serif\" font-size=\"14.00\" text-anchor=\"middle\" x=\"1016\" y=\"-672.3\">output:</text>\n<polyline fill=\"none\" points=\"1045,-664.5 1045,-710.5 \" stroke=\"#000000\"/>\n<text fill=\"#000000\" font-family=\"Times,serif\" font-size=\"14.00\" text-anchor=\"middle\" x=\"1088.5\" y=\"-695.3\">(None, 1)</text>\n<polyline fill=\"none\" points=\"1045,-687.5 1132,-687.5 \" stroke=\"#000000\"/>\n<text fill=\"#000000\" font-family=\"Times,serif\" font-size=\"14.00\" text-anchor=\"middle\" x=\"1088.5\" y=\"-672.3\">(None, 1, 2)</text>\n</g>\n<!-- 140368577792784&#45;&gt;140368642497296 -->\n<g class=\"edge\" id=\"edge3\">\n<title>140368577792784-&gt;140368642497296</title>\n<path d=\"M993.5641,-747.3799C994.6516,-739.1745 995.8982,-729.7679 997.0763,-720.8786\" fill=\"none\" stroke=\"#000000\"/>\n<polygon fill=\"#000000\" points=\"1000.5699,-721.1572 998.4142,-710.784 993.6306,-720.2375 1000.5699,-721.1572\" stroke=\"#000000\"/>\n</g>\n<!-- 140368577246160 -->\n<g class=\"node\" id=\"node4\">\n<title>140368577246160</title>\n<polygon fill=\"none\" points=\"1148,-747.5 1148,-793.5 1427,-793.5 1427,-747.5 1148,-747.5\" stroke=\"#000000\"/>\n<text fill=\"#000000\" font-family=\"Times,serif\" font-size=\"14.00\" text-anchor=\"middle\" x=\"1218\" y=\"-766.8\">input_12: InputLayer</text>\n<polyline fill=\"none\" points=\"1288,-747.5 1288,-793.5 \" stroke=\"#000000\"/>\n<text fill=\"#000000\" font-family=\"Times,serif\" font-size=\"14.00\" text-anchor=\"middle\" x=\"1317\" y=\"-778.3\">input:</text>\n<polyline fill=\"none\" points=\"1288,-770.5 1346,-770.5 \" stroke=\"#000000\"/>\n<text fill=\"#000000\" font-family=\"Times,serif\" font-size=\"14.00\" text-anchor=\"middle\" x=\"1317\" y=\"-755.3\">output:</text>\n<polyline fill=\"none\" points=\"1346,-747.5 1346,-793.5 \" stroke=\"#000000\"/>\n<text fill=\"#000000\" font-family=\"Times,serif\" font-size=\"14.00\" text-anchor=\"middle\" x=\"1386.5\" y=\"-778.3\">[(None, 1)]</text>\n<polyline fill=\"none\" points=\"1346,-770.5 1427,-770.5 \" stroke=\"#000000\"/>\n<text fill=\"#000000\" font-family=\"Times,serif\" font-size=\"14.00\" text-anchor=\"middle\" x=\"1386.5\" y=\"-755.3\">[(None, 1)]</text>\n</g>\n<!-- 140368642462480 -->\n<g class=\"node\" id=\"node11\">\n<title>140368642462480</title>\n<polygon fill=\"none\" points=\"1150.5,-664.5 1150.5,-710.5 1424.5,-710.5 1424.5,-664.5 1150.5,-664.5\" stroke=\"#000000\"/>\n<text fill=\"#000000\" font-family=\"Times,serif\" font-size=\"14.00\" text-anchor=\"middle\" x=\"1215\" y=\"-683.8\">month: Embedding</text>\n<polyline fill=\"none\" points=\"1279.5,-664.5 1279.5,-710.5 \" stroke=\"#000000\"/>\n<text fill=\"#000000\" font-family=\"Times,serif\" font-size=\"14.00\" text-anchor=\"middle\" x=\"1308.5\" y=\"-695.3\">input:</text>\n<polyline fill=\"none\" points=\"1279.5,-687.5 1337.5,-687.5 \" stroke=\"#000000\"/>\n<text fill=\"#000000\" font-family=\"Times,serif\" font-size=\"14.00\" text-anchor=\"middle\" x=\"1308.5\" y=\"-672.3\">output:</text>\n<polyline fill=\"none\" points=\"1337.5,-664.5 1337.5,-710.5 \" stroke=\"#000000\"/>\n<text fill=\"#000000\" font-family=\"Times,serif\" font-size=\"14.00\" text-anchor=\"middle\" x=\"1381\" y=\"-695.3\">(None, 1)</text>\n<polyline fill=\"none\" points=\"1337.5,-687.5 1424.5,-687.5 \" stroke=\"#000000\"/>\n<text fill=\"#000000\" font-family=\"Times,serif\" font-size=\"14.00\" text-anchor=\"middle\" x=\"1381\" y=\"-672.3\">(None, 1, 6)</text>\n</g>\n<!-- 140368577246160&#45;&gt;140368642462480 -->\n<g class=\"edge\" id=\"edge4\">\n<title>140368577246160-&gt;140368642462480</title>\n<path d=\"M1287.5,-747.3799C1287.5,-739.1745 1287.5,-729.7679 1287.5,-720.8786\" fill=\"none\" stroke=\"#000000\"/>\n<polygon fill=\"#000000\" points=\"1291.0001,-720.784 1287.5,-710.784 1284.0001,-720.784 1291.0001,-720.784\" stroke=\"#000000\"/>\n</g>\n<!-- 140368577658256 -->\n<g class=\"node\" id=\"node5\">\n<title>140368577658256</title>\n<polygon fill=\"none\" points=\"1445,-747.5 1445,-793.5 1724,-793.5 1724,-747.5 1445,-747.5\" stroke=\"#000000\"/>\n<text fill=\"#000000\" font-family=\"Times,serif\" font-size=\"14.00\" text-anchor=\"middle\" x=\"1515\" y=\"-766.8\">input_13: InputLayer</text>\n<polyline fill=\"none\" points=\"1585,-747.5 1585,-793.5 \" stroke=\"#000000\"/>\n<text fill=\"#000000\" font-family=\"Times,serif\" font-size=\"14.00\" text-anchor=\"middle\" x=\"1614\" y=\"-778.3\">input:</text>\n<polyline fill=\"none\" points=\"1585,-770.5 1643,-770.5 \" stroke=\"#000000\"/>\n<text fill=\"#000000\" font-family=\"Times,serif\" font-size=\"14.00\" text-anchor=\"middle\" x=\"1614\" y=\"-755.3\">output:</text>\n<polyline fill=\"none\" points=\"1643,-747.5 1643,-793.5 \" stroke=\"#000000\"/>\n<text fill=\"#000000\" font-family=\"Times,serif\" font-size=\"14.00\" text-anchor=\"middle\" x=\"1683.5\" y=\"-778.3\">[(None, 1)]</text>\n<polyline fill=\"none\" points=\"1643,-770.5 1724,-770.5 \" stroke=\"#000000\"/>\n<text fill=\"#000000\" font-family=\"Times,serif\" font-size=\"14.00\" text-anchor=\"middle\" x=\"1683.5\" y=\"-755.3\">[(None, 1)]</text>\n</g>\n<!-- 140368577364048 -->\n<g class=\"node\" id=\"node12\">\n<title>140368577364048</title>\n<polygon fill=\"none\" points=\"1449.5,-664.5 1449.5,-710.5 1715.5,-710.5 1715.5,-664.5 1449.5,-664.5\" stroke=\"#000000\"/>\n<text fill=\"#000000\" font-family=\"Times,serif\" font-size=\"14.00\" text-anchor=\"middle\" x=\"1506\" y=\"-683.8\">day: Embedding</text>\n<polyline fill=\"none\" points=\"1562.5,-664.5 1562.5,-710.5 \" stroke=\"#000000\"/>\n<text fill=\"#000000\" font-family=\"Times,serif\" font-size=\"14.00\" text-anchor=\"middle\" x=\"1591.5\" y=\"-695.3\">input:</text>\n<polyline fill=\"none\" points=\"1562.5,-687.5 1620.5,-687.5 \" stroke=\"#000000\"/>\n<text fill=\"#000000\" font-family=\"Times,serif\" font-size=\"14.00\" text-anchor=\"middle\" x=\"1591.5\" y=\"-672.3\">output:</text>\n<polyline fill=\"none\" points=\"1620.5,-664.5 1620.5,-710.5 \" stroke=\"#000000\"/>\n<text fill=\"#000000\" font-family=\"Times,serif\" font-size=\"14.00\" text-anchor=\"middle\" x=\"1668\" y=\"-695.3\">(None, 1)</text>\n<polyline fill=\"none\" points=\"1620.5,-687.5 1715.5,-687.5 \" stroke=\"#000000\"/>\n<text fill=\"#000000\" font-family=\"Times,serif\" font-size=\"14.00\" text-anchor=\"middle\" x=\"1668\" y=\"-672.3\">(None, 1, 10)</text>\n</g>\n<!-- 140368577658256&#45;&gt;140368577364048 -->\n<g class=\"edge\" id=\"edge5\">\n<title>140368577658256-&gt;140368577364048</title>\n<path d=\"M1583.9429,-747.3799C1583.7452,-739.1745 1583.5185,-729.7679 1583.3043,-720.8786\" fill=\"none\" stroke=\"#000000\"/>\n<polygon fill=\"#000000\" points=\"1586.801,-720.6968 1583.0611,-710.784 1579.8031,-720.8655 1586.801,-720.6968\" stroke=\"#000000\"/>\n</g>\n<!-- 140368577307216 -->\n<g class=\"node\" id=\"node6\">\n<title>140368577307216</title>\n<polygon fill=\"none\" points=\"1745,-747.5 1745,-793.5 2024,-793.5 2024,-747.5 1745,-747.5\" stroke=\"#000000\"/>\n<text fill=\"#000000\" font-family=\"Times,serif\" font-size=\"14.00\" text-anchor=\"middle\" x=\"1815\" y=\"-766.8\">input_14: InputLayer</text>\n<polyline fill=\"none\" points=\"1885,-747.5 1885,-793.5 \" stroke=\"#000000\"/>\n<text fill=\"#000000\" font-family=\"Times,serif\" font-size=\"14.00\" text-anchor=\"middle\" x=\"1914\" y=\"-778.3\">input:</text>\n<polyline fill=\"none\" points=\"1885,-770.5 1943,-770.5 \" stroke=\"#000000\"/>\n<text fill=\"#000000\" font-family=\"Times,serif\" font-size=\"14.00\" text-anchor=\"middle\" x=\"1914\" y=\"-755.3\">output:</text>\n<polyline fill=\"none\" points=\"1943,-747.5 1943,-793.5 \" stroke=\"#000000\"/>\n<text fill=\"#000000\" font-family=\"Times,serif\" font-size=\"14.00\" text-anchor=\"middle\" x=\"1983.5\" y=\"-778.3\">[(None, 1)]</text>\n<polyline fill=\"none\" points=\"1943,-770.5 2024,-770.5 \" stroke=\"#000000\"/>\n<text fill=\"#000000\" font-family=\"Times,serif\" font-size=\"14.00\" text-anchor=\"middle\" x=\"1983.5\" y=\"-755.3\">[(None, 1)]</text>\n</g>\n<!-- 140368577292048 -->\n<g class=\"node\" id=\"node13\">\n<title>140368577292048</title>\n<polygon fill=\"none\" points=\"1754,-664.5 1754,-710.5 2015,-710.5 2015,-664.5 1754,-664.5\" stroke=\"#000000\"/>\n<text fill=\"#000000\" font-family=\"Times,serif\" font-size=\"14.00\" text-anchor=\"middle\" x=\"1812\" y=\"-683.8\">state: Embedding</text>\n<polyline fill=\"none\" points=\"1870,-664.5 1870,-710.5 \" stroke=\"#000000\"/>\n<text fill=\"#000000\" font-family=\"Times,serif\" font-size=\"14.00\" text-anchor=\"middle\" x=\"1899\" y=\"-695.3\">input:</text>\n<polyline fill=\"none\" points=\"1870,-687.5 1928,-687.5 \" stroke=\"#000000\"/>\n<text fill=\"#000000\" font-family=\"Times,serif\" font-size=\"14.00\" text-anchor=\"middle\" x=\"1899\" y=\"-672.3\">output:</text>\n<polyline fill=\"none\" points=\"1928,-664.5 1928,-710.5 \" stroke=\"#000000\"/>\n<text fill=\"#000000\" font-family=\"Times,serif\" font-size=\"14.00\" text-anchor=\"middle\" x=\"1971.5\" y=\"-695.3\">(None, 1)</text>\n<polyline fill=\"none\" points=\"1928,-687.5 2015,-687.5 \" stroke=\"#000000\"/>\n<text fill=\"#000000\" font-family=\"Times,serif\" font-size=\"14.00\" text-anchor=\"middle\" x=\"1971.5\" y=\"-672.3\">(None, 1, 6)</text>\n</g>\n<!-- 140368577307216&#45;&gt;140368577292048 -->\n<g class=\"edge\" id=\"edge6\">\n<title>140368577307216-&gt;140368577292048</title>\n<path d=\"M1884.5,-747.3799C1884.5,-739.1745 1884.5,-729.7679 1884.5,-720.8786\" fill=\"none\" stroke=\"#000000\"/>\n<polygon fill=\"#000000\" points=\"1888.0001,-720.784 1884.5,-710.784 1881.0001,-720.784 1888.0001,-720.784\" stroke=\"#000000\"/>\n</g>\n<!-- 140368596909840 -->\n<g class=\"node\" id=\"node14\">\n<title>140368596909840</title>\n<polygon fill=\"none\" points=\"0,-581.5 0,-627.5 283,-627.5 283,-581.5 0,-581.5\" stroke=\"#000000\"/>\n<text fill=\"#000000\" font-family=\"Times,serif\" font-size=\"14.00\" text-anchor=\"middle\" x=\"65\" y=\"-600.8\">reshape_6: Reshape</text>\n<polyline fill=\"none\" points=\"130,-581.5 130,-627.5 \" stroke=\"#000000\"/>\n<text fill=\"#000000\" font-family=\"Times,serif\" font-size=\"14.00\" text-anchor=\"middle\" x=\"159\" y=\"-612.3\">input:</text>\n<polyline fill=\"none\" points=\"130,-604.5 188,-604.5 \" stroke=\"#000000\"/>\n<text fill=\"#000000\" font-family=\"Times,serif\" font-size=\"14.00\" text-anchor=\"middle\" x=\"159\" y=\"-589.3\">output:</text>\n<polyline fill=\"none\" points=\"188,-581.5 188,-627.5 \" stroke=\"#000000\"/>\n<text fill=\"#000000\" font-family=\"Times,serif\" font-size=\"14.00\" text-anchor=\"middle\" x=\"235.5\" y=\"-612.3\">(None, 1, 10)</text>\n<polyline fill=\"none\" points=\"188,-604.5 283,-604.5 \" stroke=\"#000000\"/>\n<text fill=\"#000000\" font-family=\"Times,serif\" font-size=\"14.00\" text-anchor=\"middle\" x=\"235.5\" y=\"-589.3\">(None, 10)</text>\n</g>\n<!-- 140368577658000&#45;&gt;140368596909840 -->\n<g class=\"edge\" id=\"edge7\">\n<title>140368577658000-&gt;140368596909840</title>\n<path d=\"M139.3357,-664.3799C139.6322,-656.1745 139.9722,-646.7679 140.2935,-637.8786\" fill=\"none\" stroke=\"#000000\"/>\n<polygon fill=\"#000000\" points=\"143.7948,-637.9039 140.6584,-627.784 136.7994,-637.651 143.7948,-637.9039\" stroke=\"#000000\"/>\n</g>\n<!-- 140368642055440 -->\n<g class=\"node\" id=\"node15\">\n<title>140368642055440</title>\n<polygon fill=\"none\" points=\"305,-581.5 305,-627.5 580,-627.5 580,-581.5 305,-581.5\" stroke=\"#000000\"/>\n<text fill=\"#000000\" font-family=\"Times,serif\" font-size=\"14.00\" text-anchor=\"middle\" x=\"370\" y=\"-600.8\">reshape_7: Reshape</text>\n<polyline fill=\"none\" points=\"435,-581.5 435,-627.5 \" stroke=\"#000000\"/>\n<text fill=\"#000000\" font-family=\"Times,serif\" font-size=\"14.00\" text-anchor=\"middle\" x=\"464\" y=\"-612.3\">input:</text>\n<polyline fill=\"none\" points=\"435,-604.5 493,-604.5 \" stroke=\"#000000\"/>\n<text fill=\"#000000\" font-family=\"Times,serif\" font-size=\"14.00\" text-anchor=\"middle\" x=\"464\" y=\"-589.3\">output:</text>\n<polyline fill=\"none\" points=\"493,-581.5 493,-627.5 \" stroke=\"#000000\"/>\n<text fill=\"#000000\" font-family=\"Times,serif\" font-size=\"14.00\" text-anchor=\"middle\" x=\"536.5\" y=\"-612.3\">(None, 1, 6)</text>\n<polyline fill=\"none\" points=\"493,-604.5 580,-604.5 \" stroke=\"#000000\"/>\n<text fill=\"#000000\" font-family=\"Times,serif\" font-size=\"14.00\" text-anchor=\"middle\" x=\"536.5\" y=\"-589.3\">(None, 6)</text>\n</g>\n<!-- 140368642326288&#45;&gt;140368642055440 -->\n<g class=\"edge\" id=\"edge8\">\n<title>140368642326288-&gt;140368642055440</title>\n<path d=\"M429.514,-664.3799C431.3128,-656.0854 433.3778,-646.5633 435.3241,-637.5889\" fill=\"none\" stroke=\"#000000\"/>\n<polygon fill=\"#000000\" points=\"438.7515,-638.2987 437.4505,-627.784 431.9105,-636.815 438.7515,-638.2987\" stroke=\"#000000\"/>\n</g>\n<!-- 140368596945424 -->\n<g class=\"node\" id=\"node9\">\n<title>140368596945424</title>\n<polygon fill=\"none\" points=\"574,-664.5 574,-710.5 853,-710.5 853,-664.5 574,-664.5\" stroke=\"#000000\"/>\n<text fill=\"#000000\" font-family=\"Times,serif\" font-size=\"14.00\" text-anchor=\"middle\" x=\"644\" y=\"-683.8\">input_10: InputLayer</text>\n<polyline fill=\"none\" points=\"714,-664.5 714,-710.5 \" stroke=\"#000000\"/>\n<text fill=\"#000000\" font-family=\"Times,serif\" font-size=\"14.00\" text-anchor=\"middle\" x=\"743\" y=\"-695.3\">input:</text>\n<polyline fill=\"none\" points=\"714,-687.5 772,-687.5 \" stroke=\"#000000\"/>\n<text fill=\"#000000\" font-family=\"Times,serif\" font-size=\"14.00\" text-anchor=\"middle\" x=\"743\" y=\"-672.3\">output:</text>\n<polyline fill=\"none\" points=\"772,-664.5 772,-710.5 \" stroke=\"#000000\"/>\n<text fill=\"#000000\" font-family=\"Times,serif\" font-size=\"14.00\" text-anchor=\"middle\" x=\"812.5\" y=\"-695.3\">[(None, 1)]</text>\n<polyline fill=\"none\" points=\"772,-687.5 853,-687.5 \" stroke=\"#000000\"/>\n<text fill=\"#000000\" font-family=\"Times,serif\" font-size=\"14.00\" text-anchor=\"middle\" x=\"812.5\" y=\"-672.3\">[(None, 1)]</text>\n</g>\n<!-- 140368891100624 -->\n<g class=\"node\" id=\"node16\">\n<title>140368891100624</title>\n<polygon fill=\"none\" points=\"600.5,-581.5 600.5,-627.5 828.5,-627.5 828.5,-581.5 600.5,-581.5\" stroke=\"#000000\"/>\n<text fill=\"#000000\" font-family=\"Times,serif\" font-size=\"14.00\" text-anchor=\"middle\" x=\"649.5\" y=\"-600.8\">Promo: Dense</text>\n<polyline fill=\"none\" points=\"698.5,-581.5 698.5,-627.5 \" stroke=\"#000000\"/>\n<text fill=\"#000000\" font-family=\"Times,serif\" font-size=\"14.00\" text-anchor=\"middle\" x=\"727.5\" y=\"-612.3\">input:</text>\n<polyline fill=\"none\" points=\"698.5,-604.5 756.5,-604.5 \" stroke=\"#000000\"/>\n<text fill=\"#000000\" font-family=\"Times,serif\" font-size=\"14.00\" text-anchor=\"middle\" x=\"727.5\" y=\"-589.3\">output:</text>\n<polyline fill=\"none\" points=\"756.5,-581.5 756.5,-627.5 \" stroke=\"#000000\"/>\n<text fill=\"#000000\" font-family=\"Times,serif\" font-size=\"14.00\" text-anchor=\"middle\" x=\"792.5\" y=\"-612.3\">(None, 1)</text>\n<polyline fill=\"none\" points=\"756.5,-604.5 828.5,-604.5 \" stroke=\"#000000\"/>\n<text fill=\"#000000\" font-family=\"Times,serif\" font-size=\"14.00\" text-anchor=\"middle\" x=\"792.5\" y=\"-589.3\">(None, 1)</text>\n</g>\n<!-- 140368596945424&#45;&gt;140368891100624 -->\n<g class=\"edge\" id=\"edge9\">\n<title>140368596945424-&gt;140368891100624</title>\n<path d=\"M713.7786,-664.3799C713.8774,-656.1745 713.9907,-646.7679 714.0978,-637.8786\" fill=\"none\" stroke=\"#000000\"/>\n<polygon fill=\"#000000\" points=\"717.5986,-637.8255 714.2195,-627.784 710.5992,-637.7411 717.5986,-637.8255\" stroke=\"#000000\"/>\n</g>\n<!-- 140368577245264 -->\n<g class=\"node\" id=\"node17\">\n<title>140368577245264</title>\n<polygon fill=\"none\" points=\"849,-581.5 849,-627.5 1124,-627.5 1124,-581.5 849,-581.5\" stroke=\"#000000\"/>\n<text fill=\"#000000\" font-family=\"Times,serif\" font-size=\"14.00\" text-anchor=\"middle\" x=\"914\" y=\"-600.8\">reshape_8: Reshape</text>\n<polyline fill=\"none\" points=\"979,-581.5 979,-627.5 \" stroke=\"#000000\"/>\n<text fill=\"#000000\" font-family=\"Times,serif\" font-size=\"14.00\" text-anchor=\"middle\" x=\"1008\" y=\"-612.3\">input:</text>\n<polyline fill=\"none\" points=\"979,-604.5 1037,-604.5 \" stroke=\"#000000\"/>\n<text fill=\"#000000\" font-family=\"Times,serif\" font-size=\"14.00\" text-anchor=\"middle\" x=\"1008\" y=\"-589.3\">output:</text>\n<polyline fill=\"none\" points=\"1037,-581.5 1037,-627.5 \" stroke=\"#000000\"/>\n<text fill=\"#000000\" font-family=\"Times,serif\" font-size=\"14.00\" text-anchor=\"middle\" x=\"1080.5\" y=\"-612.3\">(None, 1, 2)</text>\n<polyline fill=\"none\" points=\"1037,-604.5 1124,-604.5 \" stroke=\"#000000\"/>\n<text fill=\"#000000\" font-family=\"Times,serif\" font-size=\"14.00\" text-anchor=\"middle\" x=\"1080.5\" y=\"-589.3\">(None, 2)</text>\n</g>\n<!-- 140368642497296&#45;&gt;140368577245264 -->\n<g class=\"edge\" id=\"edge10\">\n<title>140368642497296-&gt;140368577245264</title>\n<path d=\"M997.3217,-664.3799C995.8388,-656.1745 994.1388,-646.7679 992.5323,-637.8786\" fill=\"none\" stroke=\"#000000\"/>\n<polygon fill=\"#000000\" points=\"995.9307,-637.0021 990.708,-627.784 989.0422,-638.2471 995.9307,-637.0021\" stroke=\"#000000\"/>\n</g>\n<!-- 140368577308048 -->\n<g class=\"node\" id=\"node18\">\n<title>140368577308048</title>\n<polygon fill=\"none\" points=\"1142,-581.5 1142,-627.5 1417,-627.5 1417,-581.5 1142,-581.5\" stroke=\"#000000\"/>\n<text fill=\"#000000\" font-family=\"Times,serif\" font-size=\"14.00\" text-anchor=\"middle\" x=\"1207\" y=\"-600.8\">reshape_9: Reshape</text>\n<polyline fill=\"none\" points=\"1272,-581.5 1272,-627.5 \" stroke=\"#000000\"/>\n<text fill=\"#000000\" font-family=\"Times,serif\" font-size=\"14.00\" text-anchor=\"middle\" x=\"1301\" y=\"-612.3\">input:</text>\n<polyline fill=\"none\" points=\"1272,-604.5 1330,-604.5 \" stroke=\"#000000\"/>\n<text fill=\"#000000\" font-family=\"Times,serif\" font-size=\"14.00\" text-anchor=\"middle\" x=\"1301\" y=\"-589.3\">output:</text>\n<polyline fill=\"none\" points=\"1330,-581.5 1330,-627.5 \" stroke=\"#000000\"/>\n<text fill=\"#000000\" font-family=\"Times,serif\" font-size=\"14.00\" text-anchor=\"middle\" x=\"1373.5\" y=\"-612.3\">(None, 1, 6)</text>\n<polyline fill=\"none\" points=\"1330,-604.5 1417,-604.5 \" stroke=\"#000000\"/>\n<text fill=\"#000000\" font-family=\"Times,serif\" font-size=\"14.00\" text-anchor=\"middle\" x=\"1373.5\" y=\"-589.3\">(None, 6)</text>\n</g>\n<!-- 140368642462480&#45;&gt;140368577308048 -->\n<g class=\"edge\" id=\"edge11\">\n<title>140368642462480-&gt;140368577308048</title>\n<path d=\"M1285.2716,-664.3799C1284.4807,-656.1745 1283.574,-646.7679 1282.7172,-637.8786\" fill=\"none\" stroke=\"#000000\"/>\n<polygon fill=\"#000000\" points=\"1286.1876,-637.4021 1281.7442,-627.784 1279.2199,-638.0737 1286.1876,-637.4021\" stroke=\"#000000\"/>\n</g>\n<!-- 140368577308368 -->\n<g class=\"node\" id=\"node19\">\n<title>140368577308368</title>\n<polygon fill=\"none\" points=\"1435.5,-581.5 1435.5,-627.5 1725.5,-627.5 1725.5,-581.5 1435.5,-581.5\" stroke=\"#000000\"/>\n<text fill=\"#000000\" font-family=\"Times,serif\" font-size=\"14.00\" text-anchor=\"middle\" x=\"1504\" y=\"-600.8\">reshape_10: Reshape</text>\n<polyline fill=\"none\" points=\"1572.5,-581.5 1572.5,-627.5 \" stroke=\"#000000\"/>\n<text fill=\"#000000\" font-family=\"Times,serif\" font-size=\"14.00\" text-anchor=\"middle\" x=\"1601.5\" y=\"-612.3\">input:</text>\n<polyline fill=\"none\" points=\"1572.5,-604.5 1630.5,-604.5 \" stroke=\"#000000\"/>\n<text fill=\"#000000\" font-family=\"Times,serif\" font-size=\"14.00\" text-anchor=\"middle\" x=\"1601.5\" y=\"-589.3\">output:</text>\n<polyline fill=\"none\" points=\"1630.5,-581.5 1630.5,-627.5 \" stroke=\"#000000\"/>\n<text fill=\"#000000\" font-family=\"Times,serif\" font-size=\"14.00\" text-anchor=\"middle\" x=\"1678\" y=\"-612.3\">(None, 1, 10)</text>\n<polyline fill=\"none\" points=\"1630.5,-604.5 1725.5,-604.5 \" stroke=\"#000000\"/>\n<text fill=\"#000000\" font-family=\"Times,serif\" font-size=\"14.00\" text-anchor=\"middle\" x=\"1678\" y=\"-589.3\">(None, 10)</text>\n</g>\n<!-- 140368577364048&#45;&gt;140368577308368 -->\n<g class=\"edge\" id=\"edge12\">\n<title>140368577364048-&gt;140368577308368</title>\n<path d=\"M1581.9429,-664.3799C1581.7452,-656.1745 1581.5185,-646.7679 1581.3043,-637.8786\" fill=\"none\" stroke=\"#000000\"/>\n<polygon fill=\"#000000\" points=\"1584.801,-637.6968 1581.0611,-627.784 1577.8031,-637.8655 1584.801,-637.6968\" stroke=\"#000000\"/>\n</g>\n<!-- 140368578132496 -->\n<g class=\"node\" id=\"node20\">\n<title>140368578132496</title>\n<polygon fill=\"none\" points=\"1743.5,-581.5 1743.5,-627.5 2025.5,-627.5 2025.5,-581.5 1743.5,-581.5\" stroke=\"#000000\"/>\n<text fill=\"#000000\" font-family=\"Times,serif\" font-size=\"14.00\" text-anchor=\"middle\" x=\"1812\" y=\"-600.8\">reshape_11: Reshape</text>\n<polyline fill=\"none\" points=\"1880.5,-581.5 1880.5,-627.5 \" stroke=\"#000000\"/>\n<text fill=\"#000000\" font-family=\"Times,serif\" font-size=\"14.00\" text-anchor=\"middle\" x=\"1909.5\" y=\"-612.3\">input:</text>\n<polyline fill=\"none\" points=\"1880.5,-604.5 1938.5,-604.5 \" stroke=\"#000000\"/>\n<text fill=\"#000000\" font-family=\"Times,serif\" font-size=\"14.00\" text-anchor=\"middle\" x=\"1909.5\" y=\"-589.3\">output:</text>\n<polyline fill=\"none\" points=\"1938.5,-581.5 1938.5,-627.5 \" stroke=\"#000000\"/>\n<text fill=\"#000000\" font-family=\"Times,serif\" font-size=\"14.00\" text-anchor=\"middle\" x=\"1982\" y=\"-612.3\">(None, 1, 6)</text>\n<polyline fill=\"none\" points=\"1938.5,-604.5 2025.5,-604.5 \" stroke=\"#000000\"/>\n<text fill=\"#000000\" font-family=\"Times,serif\" font-size=\"14.00\" text-anchor=\"middle\" x=\"1982\" y=\"-589.3\">(None, 6)</text>\n</g>\n<!-- 140368577292048&#45;&gt;140368578132496 -->\n<g class=\"edge\" id=\"edge13\">\n<title>140368577292048-&gt;140368578132496</title>\n<path d=\"M1884.5,-664.3799C1884.5,-656.1745 1884.5,-646.7679 1884.5,-637.8786\" fill=\"none\" stroke=\"#000000\"/>\n<polygon fill=\"#000000\" points=\"1888.0001,-637.784 1884.5,-627.784 1881.0001,-637.784 1888.0001,-637.784\" stroke=\"#000000\"/>\n</g>\n<!-- 140368579086992 -->\n<g class=\"node\" id=\"node21\">\n<title>140368579086992</title>\n<polygon fill=\"none\" points=\"633,-498.5 633,-544.5 1340,-544.5 1340,-498.5 633,-498.5\" stroke=\"#000000\"/>\n<text fill=\"#000000\" font-family=\"Times,serif\" font-size=\"14.00\" text-anchor=\"middle\" x=\"720.5\" y=\"-517.8\">concatenate_1: Concatenate</text>\n<polyline fill=\"none\" points=\"808,-498.5 808,-544.5 \" stroke=\"#000000\"/>\n<text fill=\"#000000\" font-family=\"Times,serif\" font-size=\"14.00\" text-anchor=\"middle\" x=\"837\" y=\"-529.3\">input:</text>\n<polyline fill=\"none\" points=\"808,-521.5 866,-521.5 \" stroke=\"#000000\"/>\n<text fill=\"#000000\" font-family=\"Times,serif\" font-size=\"14.00\" text-anchor=\"middle\" x=\"837\" y=\"-506.3\">output:</text>\n<polyline fill=\"none\" points=\"866,-498.5 866,-544.5 \" stroke=\"#000000\"/>\n<text fill=\"#000000\" font-family=\"Times,serif\" font-size=\"14.00\" text-anchor=\"middle\" x=\"1103\" y=\"-529.3\">[(None, 10), (None, 6), (None, 1), (None, 2), (None, 6), (None, 10), (None, 6)]</text>\n<polyline fill=\"none\" points=\"866,-521.5 1340,-521.5 \" stroke=\"#000000\"/>\n<text fill=\"#000000\" font-family=\"Times,serif\" font-size=\"14.00\" text-anchor=\"middle\" x=\"1103\" y=\"-506.3\">(None, 41)</text>\n</g>\n<!-- 140368596909840&#45;&gt;140368579086992 -->\n<g class=\"edge\" id=\"edge14\">\n<title>140368596909840-&gt;140368579086992</title>\n<path d=\"M283.2656,-582.5095C287.3867,-581.9849 291.4717,-581.4803 295.5,-581 413.5643,-566.9241 543.359,-554.8543 658.2681,-545.3374\" fill=\"none\" stroke=\"#000000\"/>\n<polygon fill=\"#000000\" points=\"658.5985,-548.8221 668.2769,-544.5117 658.0229,-541.8458 658.5985,-548.8221\" stroke=\"#000000\"/>\n</g>\n<!-- 140368642055440&#45;&gt;140368579086992 -->\n<g class=\"edge\" id=\"edge15\">\n<title>140368642055440-&gt;140368579086992</title>\n<path d=\"M580.1007,-582.7624C583.9413,-582.167 587.7471,-581.5786 591.5,-581 667.1078,-569.3433 750.8992,-556.6845 821.7827,-546.0517\" fill=\"none\" stroke=\"#000000\"/>\n<polygon fill=\"#000000\" points=\"822.3264,-549.5094 831.6968,-544.5652 821.2883,-542.5868 822.3264,-549.5094\" stroke=\"#000000\"/>\n</g>\n<!-- 140368891100624&#45;&gt;140368579086992 -->\n<g class=\"edge\" id=\"edge16\">\n<title>140368891100624-&gt;140368579086992</title>\n<path d=\"M789.906,-581.4901C824.3962,-570.9655 865.4221,-558.4466 901.0512,-547.5745\" fill=\"none\" stroke=\"#000000\"/>\n<polygon fill=\"#000000\" points=\"902.4043,-550.821 910.9474,-544.5547 900.3612,-544.1257 902.4043,-550.821\" stroke=\"#000000\"/>\n</g>\n<!-- 140368577245264&#45;&gt;140368579086992 -->\n<g class=\"edge\" id=\"edge17\">\n<title>140368577245264-&gt;140368579086992</title>\n<path d=\"M986.5,-581.3799C986.5,-573.1745 986.5,-563.7679 986.5,-554.8786\" fill=\"none\" stroke=\"#000000\"/>\n<polygon fill=\"#000000\" points=\"990.0001,-554.784 986.5,-544.784 983.0001,-554.784 990.0001,-554.784\" stroke=\"#000000\"/>\n</g>\n<!-- 140368577308048&#45;&gt;140368579086992 -->\n<g class=\"edge\" id=\"edge18\">\n<title>140368577308048-&gt;140368579086992</title>\n<path d=\"M1198.2723,-581.4901C1160.8016,-570.8755 1116.1698,-558.2324 1077.5632,-547.2961\" fill=\"none\" stroke=\"#000000\"/>\n<polygon fill=\"#000000\" points=\"1078.4611,-543.9128 1067.8857,-544.5547 1076.5532,-550.6478 1078.4611,-543.9128\" stroke=\"#000000\"/>\n</g>\n<!-- 140368577308368&#45;&gt;140368579086992 -->\n<g class=\"edge\" id=\"edge19\">\n<title>140368577308368-&gt;140368579086992</title>\n<path d=\"M1435.3006,-582.415C1432.0033,-581.9364 1428.7329,-581.4641 1425.5,-581 1341.996,-569.0117 1249.4591,-556.3738 1170.9586,-545.8435\" fill=\"none\" stroke=\"#000000\"/>\n<polygon fill=\"#000000\" points=\"1171.3414,-542.3636 1160.965,-544.5042 1170.4115,-549.3016 1171.3414,-542.3636\" stroke=\"#000000\"/>\n</g>\n<!-- 140368578132496&#45;&gt;140368579086992 -->\n<g class=\"edge\" id=\"edge20\">\n<title>140368578132496-&gt;140368579086992</title>\n<path d=\"M1743.2193,-582.0596C1740.2886,-581.6934 1737.3796,-581.3396 1734.5,-581 1609.7639,-566.2895 1472.886,-554.2199 1350.7047,-544.8886\" fill=\"none\" stroke=\"#000000\"/>\n<polygon fill=\"#000000\" points=\"1350.6722,-541.3761 1340.4357,-544.1081 1350.1417,-548.3559 1350.6722,-541.3761\" stroke=\"#000000\"/>\n</g>\n<!-- 140368579467984 -->\n<g class=\"node\" id=\"node22\">\n<title>140368579467984</title>\n<polygon fill=\"none\" points=\"856.5,-415.5 856.5,-461.5 1116.5,-461.5 1116.5,-415.5 856.5,-415.5\" stroke=\"#000000\"/>\n<text fill=\"#000000\" font-family=\"Times,serif\" font-size=\"14.00\" text-anchor=\"middle\" x=\"910\" y=\"-434.8\">dense_3: Dense</text>\n<polyline fill=\"none\" points=\"963.5,-415.5 963.5,-461.5 \" stroke=\"#000000\"/>\n<text fill=\"#000000\" font-family=\"Times,serif\" font-size=\"14.00\" text-anchor=\"middle\" x=\"992.5\" y=\"-446.3\">input:</text>\n<polyline fill=\"none\" points=\"963.5,-438.5 1021.5,-438.5 \" stroke=\"#000000\"/>\n<text fill=\"#000000\" font-family=\"Times,serif\" font-size=\"14.00\" text-anchor=\"middle\" x=\"992.5\" y=\"-423.3\">output:</text>\n<polyline fill=\"none\" points=\"1021.5,-415.5 1021.5,-461.5 \" stroke=\"#000000\"/>\n<text fill=\"#000000\" font-family=\"Times,serif\" font-size=\"14.00\" text-anchor=\"middle\" x=\"1069\" y=\"-446.3\">(None, 41)</text>\n<polyline fill=\"none\" points=\"1021.5,-438.5 1116.5,-438.5 \" stroke=\"#000000\"/>\n<text fill=\"#000000\" font-family=\"Times,serif\" font-size=\"14.00\" text-anchor=\"middle\" x=\"1069\" y=\"-423.3\">(None, 1000)</text>\n</g>\n<!-- 140368579086992&#45;&gt;140368579467984 -->\n<g class=\"edge\" id=\"edge21\">\n<title>140368579086992-&gt;140368579467984</title>\n<path d=\"M986.5,-498.3799C986.5,-490.1745 986.5,-480.7679 986.5,-471.8786\" fill=\"none\" stroke=\"#000000\"/>\n<polygon fill=\"#000000\" points=\"990.0001,-471.784 986.5,-461.784 983.0001,-471.784 990.0001,-471.784\" stroke=\"#000000\"/>\n</g>\n<!-- 140368577383824 -->\n<g class=\"node\" id=\"node23\">\n<title>140368577383824</title>\n<polygon fill=\"none\" points=\"833,-332.5 833,-378.5 1140,-378.5 1140,-332.5 833,-332.5\" stroke=\"#000000\"/>\n<text fill=\"#000000\" font-family=\"Times,serif\" font-size=\"14.00\" text-anchor=\"middle\" x=\"910\" y=\"-351.8\">activation_3: Activation</text>\n<polyline fill=\"none\" points=\"987,-332.5 987,-378.5 \" stroke=\"#000000\"/>\n<text fill=\"#000000\" font-family=\"Times,serif\" font-size=\"14.00\" text-anchor=\"middle\" x=\"1016\" y=\"-363.3\">input:</text>\n<polyline fill=\"none\" points=\"987,-355.5 1045,-355.5 \" stroke=\"#000000\"/>\n<text fill=\"#000000\" font-family=\"Times,serif\" font-size=\"14.00\" text-anchor=\"middle\" x=\"1016\" y=\"-340.3\">output:</text>\n<polyline fill=\"none\" points=\"1045,-332.5 1045,-378.5 \" stroke=\"#000000\"/>\n<text fill=\"#000000\" font-family=\"Times,serif\" font-size=\"14.00\" text-anchor=\"middle\" x=\"1092.5\" y=\"-363.3\">(None, 1000)</text>\n<polyline fill=\"none\" points=\"1045,-355.5 1140,-355.5 \" stroke=\"#000000\"/>\n<text fill=\"#000000\" font-family=\"Times,serif\" font-size=\"14.00\" text-anchor=\"middle\" x=\"1092.5\" y=\"-340.3\">(None, 1000)</text>\n</g>\n<!-- 140368579467984&#45;&gt;140368577383824 -->\n<g class=\"edge\" id=\"edge22\">\n<title>140368579467984-&gt;140368577383824</title>\n<path d=\"M986.5,-415.3799C986.5,-407.1745 986.5,-397.7679 986.5,-388.8786\" fill=\"none\" stroke=\"#000000\"/>\n<polygon fill=\"#000000\" points=\"990.0001,-388.784 986.5,-378.784 983.0001,-388.784 990.0001,-388.784\" stroke=\"#000000\"/>\n</g>\n<!-- 140368577382480 -->\n<g class=\"node\" id=\"node24\">\n<title>140368577382480</title>\n<polygon fill=\"none\" points=\"856.5,-249.5 856.5,-295.5 1116.5,-295.5 1116.5,-249.5 856.5,-249.5\" stroke=\"#000000\"/>\n<text fill=\"#000000\" font-family=\"Times,serif\" font-size=\"14.00\" text-anchor=\"middle\" x=\"910\" y=\"-268.8\">dense_4: Dense</text>\n<polyline fill=\"none\" points=\"963.5,-249.5 963.5,-295.5 \" stroke=\"#000000\"/>\n<text fill=\"#000000\" font-family=\"Times,serif\" font-size=\"14.00\" text-anchor=\"middle\" x=\"992.5\" y=\"-280.3\">input:</text>\n<polyline fill=\"none\" points=\"963.5,-272.5 1021.5,-272.5 \" stroke=\"#000000\"/>\n<text fill=\"#000000\" font-family=\"Times,serif\" font-size=\"14.00\" text-anchor=\"middle\" x=\"992.5\" y=\"-257.3\">output:</text>\n<polyline fill=\"none\" points=\"1021.5,-249.5 1021.5,-295.5 \" stroke=\"#000000\"/>\n<text fill=\"#000000\" font-family=\"Times,serif\" font-size=\"14.00\" text-anchor=\"middle\" x=\"1069\" y=\"-280.3\">(None, 1000)</text>\n<polyline fill=\"none\" points=\"1021.5,-272.5 1116.5,-272.5 \" stroke=\"#000000\"/>\n<text fill=\"#000000\" font-family=\"Times,serif\" font-size=\"14.00\" text-anchor=\"middle\" x=\"1069\" y=\"-257.3\">(None, 500)</text>\n</g>\n<!-- 140368577383824&#45;&gt;140368577382480 -->\n<g class=\"edge\" id=\"edge23\">\n<title>140368577383824-&gt;140368577382480</title>\n<path d=\"M986.5,-332.3799C986.5,-324.1745 986.5,-314.7679 986.5,-305.8786\" fill=\"none\" stroke=\"#000000\"/>\n<polygon fill=\"#000000\" points=\"990.0001,-305.784 986.5,-295.784 983.0001,-305.784 990.0001,-305.784\" stroke=\"#000000\"/>\n</g>\n<!-- 140368642465552 -->\n<g class=\"node\" id=\"node25\">\n<title>140368642465552</title>\n<polygon fill=\"none\" points=\"837,-166.5 837,-212.5 1136,-212.5 1136,-166.5 837,-166.5\" stroke=\"#000000\"/>\n<text fill=\"#000000\" font-family=\"Times,serif\" font-size=\"14.00\" text-anchor=\"middle\" x=\"914\" y=\"-185.8\">activation_4: Activation</text>\n<polyline fill=\"none\" points=\"991,-166.5 991,-212.5 \" stroke=\"#000000\"/>\n<text fill=\"#000000\" font-family=\"Times,serif\" font-size=\"14.00\" text-anchor=\"middle\" x=\"1020\" y=\"-197.3\">input:</text>\n<polyline fill=\"none\" points=\"991,-189.5 1049,-189.5 \" stroke=\"#000000\"/>\n<text fill=\"#000000\" font-family=\"Times,serif\" font-size=\"14.00\" text-anchor=\"middle\" x=\"1020\" y=\"-174.3\">output:</text>\n<polyline fill=\"none\" points=\"1049,-166.5 1049,-212.5 \" stroke=\"#000000\"/>\n<text fill=\"#000000\" font-family=\"Times,serif\" font-size=\"14.00\" text-anchor=\"middle\" x=\"1092.5\" y=\"-197.3\">(None, 500)</text>\n<polyline fill=\"none\" points=\"1049,-189.5 1136,-189.5 \" stroke=\"#000000\"/>\n<text fill=\"#000000\" font-family=\"Times,serif\" font-size=\"14.00\" text-anchor=\"middle\" x=\"1092.5\" y=\"-174.3\">(None, 500)</text>\n</g>\n<!-- 140368577382480&#45;&gt;140368642465552 -->\n<g class=\"edge\" id=\"edge24\">\n<title>140368577382480-&gt;140368642465552</title>\n<path d=\"M986.5,-249.3799C986.5,-241.1745 986.5,-231.7679 986.5,-222.8786\" fill=\"none\" stroke=\"#000000\"/>\n<polygon fill=\"#000000\" points=\"990.0001,-222.784 986.5,-212.784 983.0001,-222.784 990.0001,-222.784\" stroke=\"#000000\"/>\n</g>\n<!-- 140368577443664 -->\n<g class=\"node\" id=\"node26\">\n<title>140368577443664</title>\n<polygon fill=\"none\" points=\"860.5,-83.5 860.5,-129.5 1112.5,-129.5 1112.5,-83.5 860.5,-83.5\" stroke=\"#000000\"/>\n<text fill=\"#000000\" font-family=\"Times,serif\" font-size=\"14.00\" text-anchor=\"middle\" x=\"914\" y=\"-102.8\">dense_5: Dense</text>\n<polyline fill=\"none\" points=\"967.5,-83.5 967.5,-129.5 \" stroke=\"#000000\"/>\n<text fill=\"#000000\" font-family=\"Times,serif\" font-size=\"14.00\" text-anchor=\"middle\" x=\"996.5\" y=\"-114.3\">input:</text>\n<polyline fill=\"none\" points=\"967.5,-106.5 1025.5,-106.5 \" stroke=\"#000000\"/>\n<text fill=\"#000000\" font-family=\"Times,serif\" font-size=\"14.00\" text-anchor=\"middle\" x=\"996.5\" y=\"-91.3\">output:</text>\n<polyline fill=\"none\" points=\"1025.5,-83.5 1025.5,-129.5 \" stroke=\"#000000\"/>\n<text fill=\"#000000\" font-family=\"Times,serif\" font-size=\"14.00\" text-anchor=\"middle\" x=\"1069\" y=\"-114.3\">(None, 500)</text>\n<polyline fill=\"none\" points=\"1025.5,-106.5 1112.5,-106.5 \" stroke=\"#000000\"/>\n<text fill=\"#000000\" font-family=\"Times,serif\" font-size=\"14.00\" text-anchor=\"middle\" x=\"1069\" y=\"-91.3\">(None, 1)</text>\n</g>\n<!-- 140368642465552&#45;&gt;140368577443664 -->\n<g class=\"edge\" id=\"edge25\">\n<title>140368642465552-&gt;140368577443664</title>\n<path d=\"M986.5,-166.3799C986.5,-158.1745 986.5,-148.7679 986.5,-139.8786\" fill=\"none\" stroke=\"#000000\"/>\n<polygon fill=\"#000000\" points=\"990.0001,-139.784 986.5,-129.784 983.0001,-139.784 990.0001,-139.784\" stroke=\"#000000\"/>\n</g>\n<!-- 140368577248080 -->\n<g class=\"node\" id=\"node27\">\n<title>140368577248080</title>\n<polygon fill=\"none\" points=\"844.5,-.5 844.5,-46.5 1128.5,-46.5 1128.5,-.5 844.5,-.5\" stroke=\"#000000\"/>\n<text fill=\"#000000\" font-family=\"Times,serif\" font-size=\"14.00\" text-anchor=\"middle\" x=\"921.5\" y=\"-19.8\">activation_5: Activation</text>\n<polyline fill=\"none\" points=\"998.5,-.5 998.5,-46.5 \" stroke=\"#000000\"/>\n<text fill=\"#000000\" font-family=\"Times,serif\" font-size=\"14.00\" text-anchor=\"middle\" x=\"1027.5\" y=\"-31.3\">input:</text>\n<polyline fill=\"none\" points=\"998.5,-23.5 1056.5,-23.5 \" stroke=\"#000000\"/>\n<text fill=\"#000000\" font-family=\"Times,serif\" font-size=\"14.00\" text-anchor=\"middle\" x=\"1027.5\" y=\"-8.3\">output:</text>\n<polyline fill=\"none\" points=\"1056.5,-.5 1056.5,-46.5 \" stroke=\"#000000\"/>\n<text fill=\"#000000\" font-family=\"Times,serif\" font-size=\"14.00\" text-anchor=\"middle\" x=\"1092.5\" y=\"-31.3\">(None, 1)</text>\n<polyline fill=\"none\" points=\"1056.5,-23.5 1128.5,-23.5 \" stroke=\"#000000\"/>\n<text fill=\"#000000\" font-family=\"Times,serif\" font-size=\"14.00\" text-anchor=\"middle\" x=\"1092.5\" y=\"-8.3\">(None, 1)</text>\n</g>\n<!-- 140368577443664&#45;&gt;140368577248080 -->\n<g class=\"edge\" id=\"edge26\">\n<title>140368577443664-&gt;140368577248080</title>\n<path d=\"M986.5,-83.3799C986.5,-75.1745 986.5,-65.7679 986.5,-56.8786\" fill=\"none\" stroke=\"#000000\"/>\n<polygon fill=\"#000000\" points=\"990.0001,-56.784 986.5,-46.784 983.0001,-56.784 990.0001,-56.784\" stroke=\"#000000\"/>\n</g>\n</g>\n</svg>"
          },
          "metadata": {
            "tags": []
          },
          "execution_count": 40
        }
      ]
    },
    {
      "cell_type": "code",
      "metadata": {
        "id": "tqUNSxR8q3-B"
      },
      "source": [
        "#we will rescale our y_train for the model\n",
        "#the reason for this is mentioned in the paper in the same section \n",
        "max_log_y = max(np.max(np.log(y_train.astype(np.int))), np.max(np.log(y_val.astype(np.int))))\n",
        "fitting_ytr = np.log(y_train.astype(np.int)) / max_log_y"
      ],
      "execution_count": 41,
      "outputs": []
    },
    {
      "cell_type": "code",
      "metadata": {
        "id": "Np80imB4MgYY"
      },
      "source": [
        "#do the same for y_val as well\n",
        "fitting_yval = np.log(y_val.astype(np.int)) / max_log_y"
      ],
      "execution_count": 42,
      "outputs": []
    },
    {
      "cell_type": "markdown",
      "metadata": {
        "id": "6WcPVMLiF-1v"
      },
      "source": [
        "Now that we have built the model, we need to ensure that the input passed to the model is also in the same format - hence we will define a function split the features we are performing embeddings on"
      ]
    },
    {
      "cell_type": "code",
      "metadata": {
        "id": "Hrl4-Jf2_RKa"
      },
      "source": [
        "#Order in which my data is stored\n",
        "data_order=['store','year','month','day','dow','open','promo','state']"
      ],
      "execution_count": 43,
      "outputs": []
    },
    {
      "cell_type": "code",
      "metadata": {
        "colab": {
          "base_uri": "https://localhost:8080/"
        },
        "id": "-KgrCCdcrqov",
        "outputId": "2ba72097-e340-4cc5-a7ba-ed14db520bc3"
      },
      "source": [
        "X_train[1]"
      ],
      "execution_count": 44,
      "outputs": [
        {
          "output_type": "execute_result",
          "data": {
            "text/plain": [
              "array([746,   1,   1,  20,   1,   0,   0,   8])"
            ]
          },
          "metadata": {
            "tags": []
          },
          "execution_count": 44
        }
      ]
    },
    {
      "cell_type": "code",
      "metadata": {
        "id": "o1ZSq3RetpUx"
      },
      "source": [
        "#split the features\n",
        "#I have changed the index according to my data\n",
        "def split_features(X):\n",
        "    X_list = []\n",
        "    #Store index is 0 for me\n",
        "    store_index = X[..., [0]]\n",
        "    X_list.append(store_index)\n",
        "\n",
        "    day_of_week = X[..., [4]]\n",
        "    X_list.append(day_of_week)\n",
        "\n",
        "    promo = X[..., [6]]\n",
        "    X_list.append(promo)\n",
        "\n",
        "    year = X[..., [1]]\n",
        "    X_list.append(year)\n",
        "\n",
        "    month = X[..., [2]]\n",
        "    X_list.append(month)\n",
        "\n",
        "    day = X[..., [3]]\n",
        "    X_list.append(day)\n",
        "\n",
        "    State = X[..., [7]]\n",
        "    X_list.append(State)\n",
        "\n",
        "    return X_list"
      ],
      "execution_count": 45,
      "outputs": []
    },
    {
      "cell_type": "code",
      "metadata": {
        "id": "gn0ZRL6at7xg"
      },
      "source": [
        "def preprocessing(X):\n",
        "    X_list = split_features(X)\n",
        "    return X_list"
      ],
      "execution_count": 46,
      "outputs": []
    },
    {
      "cell_type": "markdown",
      "metadata": {
        "id": "UJKlX4TdGNcn"
      },
      "source": [
        "1. Add a ModelCheckpoint to save the weights \n",
        "\n",
        "2. Fit the model on the `preprocessing(X_train)` and on the fitting_y with 10 epochs and batch_size as 128 \n",
        "  * add in callback here for ModelCheckPoint and also provide validation data here. \n",
        "  * ModelCheckPoint will be used to save the weights for the model, we will use these weights for each embedding layer( you can read more about model check point [here](https://www.tensorflow.org/api_docs/python/tf/keras/callbacks/ModelCheckpoint))"
      ]
    },
    {
      "cell_type": "code",
      "metadata": {
        "id": "BCE5qF0lrEmJ",
        "colab": {
          "base_uri": "https://localhost:8080/"
        },
        "outputId": "d8df76b7-de5a-4198-9e3a-8f61421585f6"
      },
      "source": [
        "modelNN_emb.checkpointer = ModelCheckpoint(filepath=\"best_model_weights.hdf5\", verbose=1, save_best_only=True)\n",
        "modelNN_emb.fit(preprocessing(X_train), fitting_ytr, epochs = 10, batch_size = 128, validation_data= (preprocessing(X_val),fitting_yval), callbacks=[modelNN_emb.checkpointer])"
      ],
      "execution_count": 47,
      "outputs": [
        {
          "output_type": "stream",
          "text": [
            "Epoch 1/10\n",
            "1563/1563 [==============================] - 19s 12ms/step - loss: 0.0255 - val_loss: 0.0117\n",
            "\n",
            "Epoch 00001: val_loss improved from inf to 0.01166, saving model to best_model_weights.hdf5\n",
            "Epoch 2/10\n",
            "1563/1563 [==============================] - 18s 11ms/step - loss: 0.0095 - val_loss: 0.0109\n",
            "\n",
            "Epoch 00002: val_loss improved from 0.01166 to 0.01089, saving model to best_model_weights.hdf5\n",
            "Epoch 3/10\n",
            "1563/1563 [==============================] - 18s 12ms/step - loss: 0.0086 - val_loss: 0.0103\n",
            "\n",
            "Epoch 00003: val_loss improved from 0.01089 to 0.01032, saving model to best_model_weights.hdf5\n",
            "Epoch 4/10\n",
            "1563/1563 [==============================] - 18s 12ms/step - loss: 0.0081 - val_loss: 0.0102\n",
            "\n",
            "Epoch 00004: val_loss improved from 0.01032 to 0.01024, saving model to best_model_weights.hdf5\n",
            "Epoch 5/10\n",
            "1563/1563 [==============================] - 18s 12ms/step - loss: 0.0077 - val_loss: 0.0100\n",
            "\n",
            "Epoch 00005: val_loss improved from 0.01024 to 0.01000, saving model to best_model_weights.hdf5\n",
            "Epoch 6/10\n",
            "1563/1563 [==============================] - 19s 12ms/step - loss: 0.0074 - val_loss: 0.0099\n",
            "\n",
            "Epoch 00006: val_loss improved from 0.01000 to 0.00987, saving model to best_model_weights.hdf5\n",
            "Epoch 7/10\n",
            "1563/1563 [==============================] - 18s 12ms/step - loss: 0.0072 - val_loss: 0.0101\n",
            "\n",
            "Epoch 00007: val_loss did not improve from 0.00987\n",
            "Epoch 8/10\n",
            "1563/1563 [==============================] - 19s 12ms/step - loss: 0.0070 - val_loss: 0.0108\n",
            "\n",
            "Epoch 00008: val_loss did not improve from 0.00987\n",
            "Epoch 9/10\n",
            "1563/1563 [==============================] - 19s 12ms/step - loss: 0.0069 - val_loss: 0.0096\n",
            "\n",
            "Epoch 00009: val_loss improved from 0.00987 to 0.00956, saving model to best_model_weights.hdf5\n",
            "Epoch 10/10\n",
            "1563/1563 [==============================] - 19s 12ms/step - loss: 0.0067 - val_loss: 0.0095\n",
            "\n",
            "Epoch 00010: val_loss improved from 0.00956 to 0.00954, saving model to best_model_weights.hdf5\n"
          ],
          "name": "stdout"
        },
        {
          "output_type": "execute_result",
          "data": {
            "text/plain": [
              "<tensorflow.python.keras.callbacks.History at 0x7faa1b20bf10>"
            ]
          },
          "metadata": {
            "tags": []
          },
          "execution_count": 47
        }
      ]
    },
    {
      "cell_type": "code",
      "metadata": {
        "id": "QAC8EoMg_0BO"
      },
      "source": [
        "def MAPE(Y_actual,Y_Predicted):\n",
        "    #your code here\n",
        "    return np.mean(np.abs((Y_actual-Y_Predicted)/Y_actual))"
      ],
      "execution_count": 48,
      "outputs": []
    },
    {
      "cell_type": "code",
      "metadata": {
        "colab": {
          "base_uri": "https://localhost:8080/"
        },
        "id": "T66Q3Om6_5Ny",
        "outputId": "f6fb8b18-4cff-472e-9d2e-5baa77e8a0dd"
      },
      "source": [
        "y_pred=modelNN_emb.predict(preprocessing(X_val))\n",
        "print('MAPE score for Neural Network with EE is:',MAPE(fitting_yval,y_pred.flatten()))"
      ],
      "execution_count": 49,
      "outputs": [
        {
          "output_type": "stream",
          "text": [
            "MAPE score for Neural Network with EE is: 0.011585330487681286\n"
          ],
          "name": "stdout"
        }
      ]
    },
    {
      "cell_type": "code",
      "metadata": {
        "id": "nw0uY5zpB5_d"
      },
      "source": [
        "result['With EE']={'Neural Network':MAPE(fitting_yval,y_pred.flatten())}"
      ],
      "execution_count": 51,
      "outputs": []
    },
    {
      "cell_type": "code",
      "metadata": {
        "id": "Z7f1ewJFCz-t"
      },
      "source": [
        "with open(\"/content/drive/MyDrive/Colab Notebooks/UNIV-AI-ML2/HW/result.pickle\", 'wb') as f:\n",
        "    pickle.dump((result),f)"
      ],
      "execution_count": 53,
      "outputs": []
    },
    {
      "cell_type": "markdown",
      "metadata": {
        "id": "PX4q6sj2qBTy"
      },
      "source": [
        "Now we will save the embeddings from the model defined above:\n",
        "check if save_embeddings is set to True first, if yes store the following:\n",
        "  1. store_embedding\n",
        "  2. dow_embedding\n",
        "  3. year_embedding\n",
        "  4. month_embedding\n",
        "  5. day_embedding\n",
        "  6. state_embedding\n",
        "\n",
        "\n",
        "Save this entire embeddings into the pickle file - **saved_embeddings_fname - embeddings.pickle**"
      ]
    },
    {
      "cell_type": "code",
      "metadata": {
        "id": "o7QS4kLLqKrH"
      },
      "source": [
        "if save_embeddings:\n",
        "    store_embedding = modelNN_emb.get_layer('store').get_weights()[0]\n",
        "    dow_embedding = modelNN_emb.get_layer('dow').get_weights()[0]\n",
        "    year_embedding = modelNN_emb.get_layer('year').get_weights()[0]\n",
        "    month_embedding = modelNN_emb.get_layer('month').get_weights()[0]\n",
        "    day_embedding = modelNN_emb.get_layer('day').get_weights()[0]\n",
        "    german_states_embedding = modelNN_emb.get_layer('state').get_weights()[0]\n",
        "    with open(saved_embeddings_fname, 'wb') as f:\n",
        "        pickle.dump([store_embedding, dow_embedding, year_embedding,\n",
        "                     month_embedding, day_embedding, german_states_embedding], f, -1)"
      ],
      "execution_count": 54,
      "outputs": []
    },
    {
      "cell_type": "markdown",
      "metadata": {
        "id": "hm5mmmJi_BCc"
      },
      "source": [
        "# You are done with Part 3!! \n",
        "Remember to save the embeddings.pickle - this will be used in Part 4!"
      ]
    }
  ]
}